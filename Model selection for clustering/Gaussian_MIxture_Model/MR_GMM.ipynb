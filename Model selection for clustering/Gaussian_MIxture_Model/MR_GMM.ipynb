{
  "cells": [
    {
      "cell_type": "code",
      "source": [
        "from google.colab import drive\n",
        "drive.mount('/content/drive')"
      ],
      "metadata": {
        "colab": {
          "base_uri": "https://localhost:8080/"
        },
        "id": "30jI1PDpdLGK",
        "outputId": "01bf814f-329f-4b15-a0d9-d9e74589114f"
      },
      "execution_count": null,
      "outputs": [
        {
          "output_type": "stream",
          "name": "stdout",
          "text": [
            "Drive already mounted at /content/drive; to attempt to forcibly remount, call drive.mount(\"/content/drive\", force_remount=True).\n"
          ]
        }
      ]
    },
    {
      "cell_type": "markdown",
      "metadata": {
        "id": "uZOBAAJBZdpc"
      },
      "source": [
        "# Case Study 1\n",
        "\n",
        "#### Model selection for Clustering\n",
        "\n",
        "Clustering is unsupervised learning: the resulting clusters are completely derived from data distributed in given a feature set with no class available\n",
        "\n",
        "Compared to supervised learning counterparts, it is …\n",
        "* hard to define model performance (cluster quality)\n",
        "* sensitive to different clustering algorithms and different feature spaces.\n",
        "\n",
        "\n",
        "\n",
        "#### Task\n",
        "Your task is to try different clustering algorithms and also a range of the potential parameter(s) which affect the number of clusters including ..\n",
        "\n",
        "* K-means\n",
        "https://scikit-learn.org/stable/modules/generated/sklearn.cluster.KMeans.html\n",
        "* Gaussian Mixture Model,\n",
        "https://scikit-learn.org/stable/modules/generated/sklearn.mixture.GaussianMixture.html#sklearn.mixture.GaussianMixture\n",
        "* Hierarchical Clustering,\n",
        "https://scikit-learn.org/stable/modules/generated/sklearn.cluster.AgglomerativeClustering.html#sklearn.cluster.AgglomerativeClustering\n",
        "* Louvain Clustering,\n",
        "https://scikit-network.readthedocs.io/en/latest/reference/clustering.html#module-sknetwork.clustering\n",
        "\n",
        "on 5K colorectal patches represented by 4 different representation PathologyGAN, ResNet50, InceptionV3 and VGG16\n",
        "\n",
        "\n",
        "#### Data and its preprocessing\n",
        "5,000 non-overlapping image patches from hematoxylin & eosin (H&E) stained histological images of human colorectal cancer (CRC) and normal tissue.\n",
        "* 4 feature sets, PathologyGAN, ResNet50, InceptionV3 and VGG16, are extracted to represent those 5,000 images different dimensional feature spaces.\n",
        "* PCA and UMAP were employed to reduce each feature sapce into 100-dimensional vectors\n",
        "\n",
        "* 9 tissue types are also available which include Adipose (ADI), background (BACK), debris (DEB), lymphocytes (LYM), mucus (MUC), smooth muscle (MUS), normal colon mucosa (NORM), cancer-associated stroma (STR), colorectal adenocarcinoma epithelium (TUM)\n",
        "\n",
        "\n",
        "#### Performance Measurement\n",
        "To assess quality of clustering solutions, several approaches are expected to be done and interpreted which include...\n",
        "* Silhouette Score for goodness of fit test\n",
        "* Vmeasure Score for homogeneity and completeness test (tissue type available as ground truth)\n",
        "* Clusters visualisations\n",
        "\n",
        "For more information, please have a check...\n",
        "https://scikit-learn.org/stable/modules/clustering.html#clustering-performance-evaluation\n",
        "\n",
        "\n",
        "#### Report\n",
        "Report on your preprocessing pipeline, theory and intuition behinds each algorithm and representation, parameter searching and performance evaluation frameworks. If there is any addiotional process, give evidences/justifications on how it helps."
      ]
    },
    {
      "cell_type": "markdown",
      "metadata": {
        "id": "UxzE4oB_Zdpe"
      },
      "source": [
        "#### Required Packages"
      ]
    },
    {
      "cell_type": "code",
      "execution_count": null,
      "metadata": {
        "colab": {
          "base_uri": "https://localhost:8080/"
        },
        "id": "faNXwPJmZdpf",
        "outputId": "bbaafaec-fc35-4f71-81d6-8077bd06db85"
      },
      "outputs": [
        {
          "output_type": "stream",
          "name": "stdout",
          "text": [
            "Collecting h5py==2.10.0\n",
            "  Using cached h5py-2.10.0.tar.gz (301 kB)\n",
            "  Preparing metadata (setup.py) ... \u001b[?25l\u001b[?25hdone\n",
            "Requirement already satisfied: numpy>=1.7 in /usr/local/lib/python3.10/dist-packages (from h5py==2.10.0) (1.23.5)\n",
            "Requirement already satisfied: six in /usr/local/lib/python3.10/dist-packages (from h5py==2.10.0) (1.16.0)\n",
            "Building wheels for collected packages: h5py\n",
            "  \u001b[1;31merror\u001b[0m: \u001b[1msubprocess-exited-with-error\u001b[0m\n",
            "  \n",
            "  \u001b[31m×\u001b[0m \u001b[32mpython setup.py bdist_wheel\u001b[0m did not run successfully.\n",
            "  \u001b[31m│\u001b[0m exit code: \u001b[1;36m1\u001b[0m\n",
            "  \u001b[31m╰─>\u001b[0m See above for output.\n",
            "  \n",
            "  \u001b[1;35mnote\u001b[0m: This error originates from a subprocess, and is likely not a problem with pip.\n",
            "  Building wheel for h5py (setup.py) ... \u001b[?25lerror\n",
            "\u001b[31m  ERROR: Failed building wheel for h5py\u001b[0m\u001b[31m\n",
            "\u001b[0m\u001b[?25h  Running setup.py clean for h5py\n",
            "Failed to build h5py\n",
            "\u001b[31mERROR: Could not build wheels for h5py, which is required to install pyproject.toml-based projects\u001b[0m\u001b[31m\n",
            "\u001b[0mRequirement already satisfied: sklearn in /usr/local/lib/python3.10/dist-packages (0.0.post11)\n",
            "Requirement already satisfied: scikit-network in /usr/local/lib/python3.10/dist-packages (0.31.0)\n",
            "Requirement already satisfied: numpy>=1.22.4 in /usr/local/lib/python3.10/dist-packages (from scikit-network) (1.23.5)\n",
            "Requirement already satisfied: scipy>=1.7.3 in /usr/local/lib/python3.10/dist-packages (from scikit-network) (1.11.3)\n",
            "Requirement already satisfied: pickle-mixin==1.0.2 in /usr/local/lib/python3.10/dist-packages (1.0.2)\n",
            "Requirement already satisfied: matplotlib in /usr/local/lib/python3.10/dist-packages (3.7.1)\n",
            "Requirement already satisfied: contourpy>=1.0.1 in /usr/local/lib/python3.10/dist-packages (from matplotlib) (1.2.0)\n",
            "Requirement already satisfied: cycler>=0.10 in /usr/local/lib/python3.10/dist-packages (from matplotlib) (0.12.1)\n",
            "Requirement already satisfied: fonttools>=4.22.0 in /usr/local/lib/python3.10/dist-packages (from matplotlib) (4.44.0)\n",
            "Requirement already satisfied: kiwisolver>=1.0.1 in /usr/local/lib/python3.10/dist-packages (from matplotlib) (1.4.5)\n",
            "Requirement already satisfied: numpy>=1.20 in /usr/local/lib/python3.10/dist-packages (from matplotlib) (1.23.5)\n",
            "Requirement already satisfied: packaging>=20.0 in /usr/local/lib/python3.10/dist-packages (from matplotlib) (23.2)\n",
            "Requirement already satisfied: pillow>=6.2.0 in /usr/local/lib/python3.10/dist-packages (from matplotlib) (9.4.0)\n",
            "Requirement already satisfied: pyparsing>=2.3.1 in /usr/local/lib/python3.10/dist-packages (from matplotlib) (3.1.1)\n",
            "Requirement already satisfied: python-dateutil>=2.7 in /usr/local/lib/python3.10/dist-packages (from matplotlib) (2.8.2)\n",
            "Requirement already satisfied: six>=1.5 in /usr/local/lib/python3.10/dist-packages (from python-dateutil>=2.7->matplotlib) (1.16.0)\n",
            "Requirement already satisfied: plotly in /usr/local/lib/python3.10/dist-packages (5.15.0)\n",
            "Requirement already satisfied: tenacity>=6.2.0 in /usr/local/lib/python3.10/dist-packages (from plotly) (8.2.3)\n",
            "Requirement already satisfied: packaging in /usr/local/lib/python3.10/dist-packages (from plotly) (23.2)\n"
          ]
        }
      ],
      "source": [
        "!pip install h5py==2.10.0\n",
        "!pip install sklearn\n",
        "!pip install scikit-network\n",
        "!pip install pickle-mixin==1.0.2\n",
        "!pip install matplotlib\n",
        "!pip install plotly\n"
      ]
    },
    {
      "cell_type": "markdown",
      "metadata": {
        "id": "SLR7DNVdZdpf"
      },
      "source": [
        "### Prepare Tissue Representations"
      ]
    },
    {
      "cell_type": "code",
      "execution_count": null,
      "metadata": {
        "id": "xG6hh1C4Zdpf"
      },
      "outputs": [],
      "source": [
        "import h5py\n",
        "import numpy as np\n",
        "import pickle\n",
        "import matplotlib.pyplot as plt\n",
        "import sklearn.metrics as skm\n",
        "import pandas as pd\n"
      ]
    },
    {
      "cell_type": "code",
      "execution_count": null,
      "metadata": {
        "id": "X4uMBiZZZdpg"
      },
      "outputs": [],
      "source": [
        "pge_path = '/content/drive/MyDrive/ML&AI Class/Case Study 1/colon_nct_feature/pge_dim_reduced_feature.h5'\n",
        "resnet50_path = '/content/drive/MyDrive/ML&AI Class/Case Study 1/colon_nct_feature/resnet50_dim_reduced_feature.h5'\n",
        "inceptionv3_path = '/content/drive/MyDrive/ML&AI Class/Case Study 1/colon_nct_feature/inceptionv3_dim_reduced_feature.h5'\n",
        "vgg16_path = '/content/drive/MyDrive/ML&AI Class/Case Study 1/colon_nct_feature/vgg16_dim_reduced_feature.h5'\n",
        "\n",
        "pge_content = h5py.File(pge_path, mode='r')\n",
        "resnet50_content = h5py.File(resnet50_path, mode='r')\n",
        "inceptionv3_content = h5py.File(inceptionv3_path, mode='r')\n",
        "vgg16_content = h5py.File(vgg16_path, mode='r')\n",
        "\n"
      ]
    },
    {
      "cell_type": "code",
      "source": [
        "vgg16_content"
      ],
      "metadata": {
        "colab": {
          "base_uri": "https://localhost:8080/"
        },
        "id": "58tj_0Xih5wR",
        "outputId": "4e068d44-ffb5-48fa-f0e2-c54cce2e5347"
      },
      "execution_count": null,
      "outputs": [
        {
          "output_type": "execute_result",
          "data": {
            "text/plain": [
              "<HDF5 file \"vgg16_dim_reduced_feature.h5\" (mode r)>"
            ]
          },
          "metadata": {},
          "execution_count": 36
        }
      ]
    },
    {
      "cell_type": "code",
      "execution_count": null,
      "metadata": {
        "id": "aXv84S_6Zdpg"
      },
      "outputs": [],
      "source": [
        "#PCA feature from 4 feature sets: pge_latent, resnet50_latent, inceptionv3_latent, vgg16_latent\n",
        "pge_pca_feature  = pge_content['pca_feature'][...]\n",
        "resnet50_pca_feature  = resnet50_content['pca_feature'][...]\n",
        "inceptionv3_pca_feature = inceptionv3_content['pca_feature'][...]\n",
        "vgg16_pca_feature  = vgg16_content['pca_feature'][...]"
      ]
    },
    {
      "cell_type": "code",
      "execution_count": null,
      "metadata": {
        "id": "X3DJCawjZdph"
      },
      "outputs": [],
      "source": [
        "#UMAP feature from 4 feature sets: pge_latent, resnet50_latent, inceptionv3_latent, vgg16_latent\n",
        "pge_umap_feature  = pge_content['umap_feature'][...]\n",
        "resnet50_umap_feature = resnet50_content['umap_feature'][...]\n",
        "inceptionv3_umap_feature  = inceptionv3_content['umap_feature'][...]\n",
        "vgg16_umap_feature  = vgg16_content['umap_feature'][...]"
      ]
    },
    {
      "cell_type": "code",
      "execution_count": null,
      "metadata": {
        "colab": {
          "base_uri": "https://localhost:8080/"
        },
        "id": "ZwssorkBZdph",
        "outputId": "6bc06637-21fb-4fc1-aebc-0e3958700b57"
      },
      "outputs": [
        {
          "output_type": "stream",
          "name": "stdout",
          "text": [
            "['ADI' 'ADI' 'ADI' ... 'TUM' 'TUM' 'TUM'] ['ADI' 'ADI' 'ADI' ... 'TUM' 'TUM' 'TUM']\n"
          ]
        }
      ],
      "source": [
        "#tissue type as available ground-truth: labels\n",
        "filename_pge  = np.squeeze(pge_content['file_name'])\n",
        "filename_pge = np.array([str(x) for x in filename_pge])\n",
        "labels_pge = np.array([x.split('/')[2] for x in filename_pge])\n",
        "\n",
        "filename_vgg  = np.squeeze(pge_content['file_name'])\n",
        "filename_vgg = np.array([str(x) for x in filename_vgg])\n",
        "labels_vgg = np.array([x.split('/')[2] for x in filename_vgg])\n",
        "print(labels_vgg, labels_pge)"
      ]
    },
    {
      "cell_type": "markdown",
      "metadata": {
        "id": "ZbMF9oYOZdph"
      },
      "source": [
        "###Create indexes, labels and test data for Pathology and VGG16"
      ]
    },
    {
      "cell_type": "code",
      "execution_count": null,
      "metadata": {
        "id": "i7CdkQ9-Zdph"
      },
      "outputs": [],
      "source": [
        "import random"
      ]
    },
    {
      "cell_type": "code",
      "execution_count": null,
      "metadata": {
        "id": "R4y0Lf5eZdph"
      },
      "outputs": [],
      "source": [
        "random.seed(0)\n",
        "selected_index_pge = random.sample(list(np.arange(len(pge_umap_feature))), 200)\n",
        "selected_index_vgg = random.sample(list(np.arange(len(vgg16_umap_feature))), 200)"
      ]
    },
    {
      "cell_type": "code",
      "execution_count": null,
      "metadata": {
        "id": "Y6QBb468Zdph"
      },
      "outputs": [],
      "source": [
        "test_data_pge = pge_umap_feature[selected_index_pge]\n",
        "test_label_pge = labels_pge[selected_index_pge]\n",
        "test_data_vgg = vgg16_umap_feature[selected_index_vgg]\n",
        "test_label_vgg = labels_vgg[selected_index_vgg]\n"
      ]
    },
    {
      "cell_type": "markdown",
      "metadata": {
        "id": "W9okI9HAZdpi"
      },
      "source": [
        "### Exploratory Analysis"
      ]
    },
    {
      "cell_type": "code",
      "execution_count": null,
      "metadata": {
        "id": "8VK3Wy6sZdpi"
      },
      "outputs": [],
      "source": [
        "import plotly.graph_objects as go\n",
        "import pandas as pd"
      ]
    },
    {
      "cell_type": "code",
      "execution_count": null,
      "metadata": {
        "id": "RrscwnmpZdpj"
      },
      "outputs": [],
      "source": [
        "import matplotlib.pyplot as plt\n",
        "from sklearn.metrics import silhouette_score, v_measure_score\n",
        "from sklearn.model_selection import KFold, train_test_split"
      ]
    },
    {
      "cell_type": "code",
      "execution_count": null,
      "metadata": {
        "colab": {
          "base_uri": "https://localhost:8080/",
          "height": 854
        },
        "id": "dRt74ykWZdpi",
        "outputId": "79d8ff46-8980-429b-9d24-4854d19a4fc0"
      },
      "outputs": [
        {
          "output_type": "stream",
          "name": "stderr",
          "text": [
            "/usr/local/lib/python3.10/dist-packages/plotly/graph_objs/_deprecations.py:31: DeprecationWarning:\n",
            "\n",
            "plotly.graph_objs.Data is deprecated.\n",
            "Please replace it with a list or tuple of instances of the following types\n",
            "  - plotly.graph_objs.Scatter\n",
            "  - plotly.graph_objs.Bar\n",
            "  - plotly.graph_objs.Area\n",
            "  - plotly.graph_objs.Histogram\n",
            "  - etc.\n",
            "\n",
            "\n",
            "/usr/local/lib/python3.10/dist-packages/plotly/graph_objs/_deprecations.py:489: DeprecationWarning:\n",
            "\n",
            "plotly.graph_objs.Scene is deprecated.\n",
            "Please replace it with one of the following more specific types\n",
            "  - plotly.graph_objs.layout.Scene\n",
            "\n",
            "\n"
          ]
        },
        {
          "output_type": "display_data",
          "data": {
            "text/html": [
              "<html>\n",
              "<head><meta charset=\"utf-8\" /></head>\n",
              "<body>\n",
              "    <div>            <script src=\"https://cdnjs.cloudflare.com/ajax/libs/mathjax/2.7.5/MathJax.js?config=TeX-AMS-MML_SVG\"></script><script type=\"text/javascript\">if (window.MathJax && window.MathJax.Hub && window.MathJax.Hub.Config) {window.MathJax.Hub.Config({SVG: {font: \"STIX-Web\"}});}</script>                <script type=\"text/javascript\">window.PlotlyConfig = {MathJaxConfig: 'local'};</script>\n",
              "        <script charset=\"utf-8\" src=\"https://cdn.plot.ly/plotly-2.24.1.min.js\"></script>                <div id=\"d17dc4fb-d2e9-4081-9076-2f4a165b8ace\" class=\"plotly-graph-div\" style=\"height:525px; width:100%;\"></div>            <script type=\"text/javascript\">                                    window.PLOTLYENV=window.PLOTLYENV || {};                                    if (document.getElementById(\"d17dc4fb-d2e9-4081-9076-2f4a165b8ace\")) {                    Plotly.newPlot(                        \"d17dc4fb-d2e9-4081-9076-2f4a165b8ace\",                        [{\"marker\":{\"opacity\":0.8,\"size\":4},\"mode\":\"markers\",\"name\":\"ADI\",\"x\":[8.651405334472656,8.968232154846191,8.722943305969238,8.688459396362305,8.996756553649902,8.951047897338867,8.727184295654297,8.5951566696167,8.971689224243164,8.737366676330566,8.774079322814941,8.921685218811035,8.672588348388672,8.60661792755127,8.849462509155273,8.704778671264648,8.880475044250488,9.438804626464844,8.809271812438965,8.830300331115723],\"y\":[5.787372589111328,6.877857685089111,5.837378025054932,5.846057891845703,6.320103168487549,6.244982719421387,5.916922092437744,5.643403053283691,6.844295501708984,6.007340431213379,5.9597086906433105,6.134202480316162,5.809494972229004,5.643187522888184,6.223074913024902,5.816380977630615,6.168622970581055,7.417702674865723,6.103999137878418,6.104244709014893],\"z\":[10.848262786865234,8.61902904510498,11.13727855682373,11.024888038635254,10.557738304138184,10.860946655273438,10.87182331085205,10.871129035949707,8.782734870910645,10.627263069152832,11.006396293640137,10.874295234680176,10.971348762512207,11.013897895812988,10.804142951965332,10.913431167602539,10.652477264404297,9.47266960144043,10.750824928283691,10.816352844238281],\"type\":\"scatter3d\"},{\"marker\":{\"opacity\":0.8,\"size\":4},\"mode\":\"markers\",\"name\":\"BACK\",\"x\":[-2.3098113536834717,-1.9612956047058105,-1.909471035003662,-2.1448862552642822,-1.1013180017471313,-1.2952888011932373,-2.2503910064697266,-1.215661883354187,-2.5063905715942383,-2.6313884258270264,-2.1354002952575684,4.685398101806641,-1.9818284511566162,-1.9870399236679077,-1.0342247486114502,4.635228633880615,-2.5370733737945557,-2.121540069580078,-2.5766093730926514,4.72728967666626,-2.088675022125244,-2.433718681335449,-2.219295024871826,4.702597618103027,-0.48711851239204407,-2.063878297805786,-2.5414726734161377,-2.5351455211639404,-1.383708119392395],\"y\":[10.024707794189453,10.188488960266113,9.369491577148438,9.556673049926758,9.118284225463867,8.22436809539795,10.438319206237793,9.089865684509277,9.61458683013916,9.676834106445312,9.702433586120605,-0.48111221194267273,10.202555656433105,9.365782737731934,9.052729606628418,0.050055887550115585,9.550800323486328,9.69086742401123,9.443429946899414,0.24505408108234406,9.068343162536621,9.387228012084961,9.184896469116211,-0.6301055550575256,7.625412464141846,9.474181175231934,9.212141990661621,9.467605590820312,9.107447624206543],\"z\":[5.238749980926514,5.292730331420898,5.19281530380249,5.281287670135498,5.112476825714111,4.968503475189209,5.323843479156494,5.125893592834473,5.210785865783691,5.274013519287109,5.2461724281311035,3.0947747230529785,5.296175956726074,5.1778035163879395,5.0996994972229,3.426737070083618,5.232271194458008,5.242367744445801,5.205261707305908,3.598557710647583,5.146825313568115,5.184179782867432,5.161600589752197,3.163264036178589,4.909087657928467,5.241621494293213,5.145628452301025,5.209434986114502,5.12640905380249],\"type\":\"scatter3d\"},{\"marker\":{\"opacity\":0.8,\"size\":4},\"mode\":\"markers\",\"name\":\"DEB\",\"x\":[9.74740982055664,9.36854362487793,9.686253547668457,9.650087356567383,9.661186218261719,9.41396427154541,9.617033004760742,9.792291641235352,9.372648239135742,9.626412391662598,9.725167274475098,9.788301467895508,9.346800804138184,9.283061027526855,9.584945678710938,9.642280578613281,9.5824556350708,9.388235092163086,9.89852523803711,9.594853401184082,9.683096885681152],\"y\":[8.545124053955078,8.655733108520508,7.9762067794799805,8.43281364440918,8.926202774047852,8.664031028747559,8.578612327575684,8.562012672424316,8.345611572265625,8.524352073669434,7.88189172744751,8.961787223815918,8.595389366149902,8.2932767868042,8.489333152770996,8.403535842895508,8.64865779876709,8.431891441345215,8.095295906066895,8.485897064208984,8.605790138244629],\"z\":[8.639217376708984,5.563880443572998,9.11068344116211,8.801133155822754,3.390578508377075,5.36453104019165,4.66273832321167,8.559404373168945,6.369504451751709,4.606837272644043,9.046347618103027,3.016688823699951,5.865730285644531,6.732243537902832,8.766585350036621,8.837352752685547,3.295656204223633,6.0847978591918945,8.795597076416016,8.77504825592041,4.261982440948486],\"type\":\"scatter3d\"},{\"marker\":{\"opacity\":0.8,\"size\":4},\"mode\":\"markers\",\"name\":\"LYM\",\"x\":[10.129464149475098,10.340272903442383,10.190149307250977,10.217312812805176,10.160867691040039,10.188621520996094,9.977527618408203,10.17941951751709,10.17082691192627,10.351513862609863,10.11839485168457,10.16083812713623,10.152047157287598,10.169849395751953,10.347280502319336,10.316967964172363,10.167579650878906,10.111701965332031,10.343716621398926,10.311506271362305,10.178133010864258,10.13538646697998,9.75126838684082,10.256807327270508],\"y\":[9.379559516906738,9.422475814819336,9.358450889587402,9.434991836547852,9.38740348815918,9.420609474182129,9.183526992797852,9.296027183532715,9.381059646606445,9.458532333374023,9.341525077819824,9.362326622009277,9.162402153015137,9.072439193725586,9.445707321166992,9.518939018249512,9.199602127075195,9.3609037399292,9.502997398376465,9.325757026672363,9.301003456115723,9.380160331726074,8.96865177154541,9.437576293945312],\"z\":[-0.3489067256450653,-1.3794384002685547,-0.4867331087589264,-0.8736363649368286,-0.4020589292049408,-0.6951858997344971,1.0463823080062866,-0.29431992769241333,-0.4984127879142761,-1.424210548400879,-0.24166929721832275,-0.32309404015541077,-0.08418966084718704,0.13232657313346863,-1.4288727045059204,-1.4984767436981201,-0.16831879317760468,-0.24493302404880524,-1.512282133102417,-0.9742652177810669,-0.25643956661224365,-0.3656087815761566,3.180184841156006,-0.9927964806556702],\"type\":\"scatter3d\"},{\"marker\":{\"opacity\":0.8,\"size\":4},\"mode\":\"markers\",\"name\":\"MUC\",\"x\":[9.303653717041016,9.384188652038574,9.400824546813965,9.202726364135742,9.805437088012695,9.365649223327637,10.203845977783203,9.33350944519043,9.3494873046875,9.452035903930664,9.639233589172363,9.340471267700195,9.388141632080078,9.414236068725586,9.755194664001465],\"y\":[7.492908954620361,7.7154974937438965,7.473453998565674,7.457433700561523,8.915499687194824,7.72408390045166,8.46742057800293,7.6140875816345215,7.6604814529418945,7.546860218048096,7.7724504470825195,7.774240970611572,8.195812225341797,7.500420570373535,8.220871925354004],\"z\":[8.559423446655273,8.387290000915527,9.061909675598145,7.817070960998535,2.270153522491455,8.07215404510498,7.435982704162598,8.490866661071777,8.257864952087402,8.861945152282715,8.233391761779785,8.159811973571777,6.362316131591797,9.096654891967773,8.332660675048828],\"type\":\"scatter3d\"},{\"marker\":{\"opacity\":0.8,\"size\":4},\"mode\":\"markers\",\"name\":\"MUS\",\"x\":[6.90642786026001,6.902469635009766,9.33690357208252,9.394375801086426,9.373677253723145,9.295662879943848,9.294475555419922,9.35746955871582,9.559759140014648,9.768457412719727,9.467159271240234,9.435083389282227,9.460287094116211,9.4761381149292,9.393882751464844,8.93846607208252,9.545434951782227,9.538213729858398,9.500479698181152,9.54963493347168,9.712578773498535,9.521285057067871,10.063678741455078,9.555154800415039],\"y\":[8.65888786315918,8.669753074645996,7.880137920379639,7.997762203216553,7.914441108703613,8.07532024383545,7.725491046905518,7.827450752258301,8.005640983581543,8.11817455291748,8.307300567626953,7.594849586486816,8.288677215576172,8.197617530822754,7.952041149139404,6.319681644439697,7.9545392990112305,7.793031215667725,7.973780632019043,7.926995754241943,7.895120620727539,7.985722064971924,8.32823371887207,8.028477668762207],\"z\":[7.133340358734131,7.130983829498291,7.67862606048584,8.197916030883789,7.980283737182617,6.830708026885986,7.923740863800049,8.029291152954102,9.823909759521484,8.782454490661621,7.782400131225586,9.271425247192383,7.758080959320068,8.033012390136719,8.006731986999512,10.64483642578125,9.91695785522461,9.833196640014648,9.900486946105957,9.956242561340332,9.234271049499512,9.767407417297363,8.18939208984375,9.66331958770752],\"type\":\"scatter3d\"},{\"marker\":{\"opacity\":0.8,\"size\":4},\"mode\":\"markers\",\"name\":\"NORM\",\"x\":[9.307579040527344,9.665897369384766,9.425786018371582,9.444941520690918,9.761146545410156,10.153709411621094,9.681563377380371,9.621005058288574,9.650813102722168,9.61724853515625,9.603978157043457,10.124692916870117,9.432992935180664],\"y\":[7.871515274047852,8.796798706054688,8.241654396057129,8.41019058227539,7.847964763641357,8.4324951171875,8.977338790893555,8.848448753356934,8.728493690490723,8.815267562866211,8.752069473266602,8.329699516296387,8.374893188476562],\"z\":[6.621462345123291,3.491462230682373,5.902756690979004,5.170317649841309,8.820589065551758,7.3652024269104,3.0808000564575195,2.969844341278076,3.7402751445770264,2.8436028957366943,3.7644145488739014,7.606478214263916,5.299363613128662],\"type\":\"scatter3d\"},{\"marker\":{\"opacity\":0.8,\"size\":4},\"mode\":\"markers\",\"name\":\"STR\",\"x\":[9.671381950378418,9.35068130493164,9.700485229492188,9.832019805908203,9.2505464553833,9.639814376831055,8.99593734741211,9.922614097595215,9.44204044342041,9.311895370483398,9.685418128967285,9.657011985778809,9.76055908203125,9.764930725097656,9.653916358947754,9.303505897521973,9.589861869812012,9.712002754211426],\"y\":[8.133655548095703,8.138178825378418,7.992771625518799,8.216503143310547,8.560275077819824,7.889496803283691,8.50527572631836,8.242985725402832,8.501774787902832,8.312499046325684,8.07830810546875,7.870943546295166,8.082670211791992,8.01630973815918,7.9655022621154785,8.298202514648438,8.04896068572998,8.016030311584473],\"z\":[9.004321098327637,6.961501121520996,8.85461711883545,8.465290069580078,6.165574073791504,9.490935325622559,6.589685440063477,8.408580780029297,6.224124908447266,6.685444355010986,9.355005264282227,9.4157075881958,9.10527229309082,8.934489250183105,9.59658432006836,6.7874603271484375,9.67946720123291,9.0421142578125],\"type\":\"scatter3d\"},{\"marker\":{\"opacity\":0.8,\"size\":4},\"mode\":\"markers\",\"name\":\"TUM\",\"x\":[9.74933910369873,10.218735694885254,9.69474983215332,9.933087348937988,9.704078674316406,9.697283744812012,9.749001502990723,9.924823760986328,10.199528694152832,10.276349067687988,10.05621337890625,9.715173721313477,10.195859909057617,9.472925186157227,9.621569633483887,10.036274909973145,9.962502479553223,10.184701919555664,9.823566436767578,9.644664764404297,10.215372085571289,9.634566307067871,9.807917594909668,10.192000389099121,10.213302612304688,9.823421478271484,10.060995101928711,10.303821563720703,10.070655822753906,10.165406227111816,10.331016540527344,10.0328950881958,9.146803855895996,10.164924621582031,9.957754135131836,10.052210807800293],\"y\":[8.998048782348633,8.432282447814941,8.820452690124512,8.068963050842285,8.854008674621582,8.997694969177246,9.033456802368164,8.125765800476074,8.38232421875,8.48475456237793,8.279301643371582,8.990732192993164,8.45114517211914,8.680744171142578,8.88686466217041,8.325631141662598,8.232039451599121,8.471892356872559,8.103631019592285,8.83083438873291,8.426718711853027,8.726058959960938,8.991080284118652,8.529644966125488,8.362387657165527,8.092996597290039,8.202226638793945,8.467130661010742,8.20881462097168,8.434441566467285,8.536654472351074,8.328897476196289,8.657574653625488,8.375138282775879,8.255888938903809,8.301950454711914],\"z\":[2.5807223320007324,7.417927265167236,2.9973907470703125,8.314316749572754,2.7095725536346436,3.085343837738037,2.746525526046753,8.751204490661621,7.3718037605285645,7.229547023773193,8.098995208740234,3.0951297283172607,7.641375541687012,4.843771934509277,3.6874711513519287,8.288503646850586,8.596247673034668,7.4185686111450195,8.960872650146484,3.3102405071258545,7.490504741668701,3.318173408508301,2.643176555633545,7.5019707679748535,7.190251350402832,8.959330558776855,7.802374362945557,6.927950859069824,7.716084957122803,7.780638217926025,7.064302921295166,8.222212791442871,4.428203105926514,7.737330436706543,8.604446411132812,8.284838676452637],\"type\":\"scatter3d\"}],                        {\"scene\":{\"xaxis\":{\"title\":{\"text\":\"PC1\"}},\"yaxis\":{\"title\":{\"text\":\"PC2\"}},\"zaxis\":{\"title\":{\"text\":\"PC3\"}}},\"showlegend\":true,\"template\":{\"data\":{\"histogram2dcontour\":[{\"type\":\"histogram2dcontour\",\"colorbar\":{\"outlinewidth\":0,\"ticks\":\"\"},\"colorscale\":[[0.0,\"#0d0887\"],[0.1111111111111111,\"#46039f\"],[0.2222222222222222,\"#7201a8\"],[0.3333333333333333,\"#9c179e\"],[0.4444444444444444,\"#bd3786\"],[0.5555555555555556,\"#d8576b\"],[0.6666666666666666,\"#ed7953\"],[0.7777777777777778,\"#fb9f3a\"],[0.8888888888888888,\"#fdca26\"],[1.0,\"#f0f921\"]]}],\"choropleth\":[{\"type\":\"choropleth\",\"colorbar\":{\"outlinewidth\":0,\"ticks\":\"\"}}],\"histogram2d\":[{\"type\":\"histogram2d\",\"colorbar\":{\"outlinewidth\":0,\"ticks\":\"\"},\"colorscale\":[[0.0,\"#0d0887\"],[0.1111111111111111,\"#46039f\"],[0.2222222222222222,\"#7201a8\"],[0.3333333333333333,\"#9c179e\"],[0.4444444444444444,\"#bd3786\"],[0.5555555555555556,\"#d8576b\"],[0.6666666666666666,\"#ed7953\"],[0.7777777777777778,\"#fb9f3a\"],[0.8888888888888888,\"#fdca26\"],[1.0,\"#f0f921\"]]}],\"heatmap\":[{\"type\":\"heatmap\",\"colorbar\":{\"outlinewidth\":0,\"ticks\":\"\"},\"colorscale\":[[0.0,\"#0d0887\"],[0.1111111111111111,\"#46039f\"],[0.2222222222222222,\"#7201a8\"],[0.3333333333333333,\"#9c179e\"],[0.4444444444444444,\"#bd3786\"],[0.5555555555555556,\"#d8576b\"],[0.6666666666666666,\"#ed7953\"],[0.7777777777777778,\"#fb9f3a\"],[0.8888888888888888,\"#fdca26\"],[1.0,\"#f0f921\"]]}],\"heatmapgl\":[{\"type\":\"heatmapgl\",\"colorbar\":{\"outlinewidth\":0,\"ticks\":\"\"},\"colorscale\":[[0.0,\"#0d0887\"],[0.1111111111111111,\"#46039f\"],[0.2222222222222222,\"#7201a8\"],[0.3333333333333333,\"#9c179e\"],[0.4444444444444444,\"#bd3786\"],[0.5555555555555556,\"#d8576b\"],[0.6666666666666666,\"#ed7953\"],[0.7777777777777778,\"#fb9f3a\"],[0.8888888888888888,\"#fdca26\"],[1.0,\"#f0f921\"]]}],\"contourcarpet\":[{\"type\":\"contourcarpet\",\"colorbar\":{\"outlinewidth\":0,\"ticks\":\"\"}}],\"contour\":[{\"type\":\"contour\",\"colorbar\":{\"outlinewidth\":0,\"ticks\":\"\"},\"colorscale\":[[0.0,\"#0d0887\"],[0.1111111111111111,\"#46039f\"],[0.2222222222222222,\"#7201a8\"],[0.3333333333333333,\"#9c179e\"],[0.4444444444444444,\"#bd3786\"],[0.5555555555555556,\"#d8576b\"],[0.6666666666666666,\"#ed7953\"],[0.7777777777777778,\"#fb9f3a\"],[0.8888888888888888,\"#fdca26\"],[1.0,\"#f0f921\"]]}],\"surface\":[{\"type\":\"surface\",\"colorbar\":{\"outlinewidth\":0,\"ticks\":\"\"},\"colorscale\":[[0.0,\"#0d0887\"],[0.1111111111111111,\"#46039f\"],[0.2222222222222222,\"#7201a8\"],[0.3333333333333333,\"#9c179e\"],[0.4444444444444444,\"#bd3786\"],[0.5555555555555556,\"#d8576b\"],[0.6666666666666666,\"#ed7953\"],[0.7777777777777778,\"#fb9f3a\"],[0.8888888888888888,\"#fdca26\"],[1.0,\"#f0f921\"]]}],\"mesh3d\":[{\"type\":\"mesh3d\",\"colorbar\":{\"outlinewidth\":0,\"ticks\":\"\"}}],\"scatter\":[{\"fillpattern\":{\"fillmode\":\"overlay\",\"size\":10,\"solidity\":0.2},\"type\":\"scatter\"}],\"parcoords\":[{\"type\":\"parcoords\",\"line\":{\"colorbar\":{\"outlinewidth\":0,\"ticks\":\"\"}}}],\"scatterpolargl\":[{\"type\":\"scatterpolargl\",\"marker\":{\"colorbar\":{\"outlinewidth\":0,\"ticks\":\"\"}}}],\"bar\":[{\"error_x\":{\"color\":\"#2a3f5f\"},\"error_y\":{\"color\":\"#2a3f5f\"},\"marker\":{\"line\":{\"color\":\"#E5ECF6\",\"width\":0.5},\"pattern\":{\"fillmode\":\"overlay\",\"size\":10,\"solidity\":0.2}},\"type\":\"bar\"}],\"scattergeo\":[{\"type\":\"scattergeo\",\"marker\":{\"colorbar\":{\"outlinewidth\":0,\"ticks\":\"\"}}}],\"scatterpolar\":[{\"type\":\"scatterpolar\",\"marker\":{\"colorbar\":{\"outlinewidth\":0,\"ticks\":\"\"}}}],\"histogram\":[{\"marker\":{\"pattern\":{\"fillmode\":\"overlay\",\"size\":10,\"solidity\":0.2}},\"type\":\"histogram\"}],\"scattergl\":[{\"type\":\"scattergl\",\"marker\":{\"colorbar\":{\"outlinewidth\":0,\"ticks\":\"\"}}}],\"scatter3d\":[{\"type\":\"scatter3d\",\"line\":{\"colorbar\":{\"outlinewidth\":0,\"ticks\":\"\"}},\"marker\":{\"colorbar\":{\"outlinewidth\":0,\"ticks\":\"\"}}}],\"scattermapbox\":[{\"type\":\"scattermapbox\",\"marker\":{\"colorbar\":{\"outlinewidth\":0,\"ticks\":\"\"}}}],\"scatterternary\":[{\"type\":\"scatterternary\",\"marker\":{\"colorbar\":{\"outlinewidth\":0,\"ticks\":\"\"}}}],\"scattercarpet\":[{\"type\":\"scattercarpet\",\"marker\":{\"colorbar\":{\"outlinewidth\":0,\"ticks\":\"\"}}}],\"carpet\":[{\"aaxis\":{\"endlinecolor\":\"#2a3f5f\",\"gridcolor\":\"white\",\"linecolor\":\"white\",\"minorgridcolor\":\"white\",\"startlinecolor\":\"#2a3f5f\"},\"baxis\":{\"endlinecolor\":\"#2a3f5f\",\"gridcolor\":\"white\",\"linecolor\":\"white\",\"minorgridcolor\":\"white\",\"startlinecolor\":\"#2a3f5f\"},\"type\":\"carpet\"}],\"table\":[{\"cells\":{\"fill\":{\"color\":\"#EBF0F8\"},\"line\":{\"color\":\"white\"}},\"header\":{\"fill\":{\"color\":\"#C8D4E3\"},\"line\":{\"color\":\"white\"}},\"type\":\"table\"}],\"barpolar\":[{\"marker\":{\"line\":{\"color\":\"#E5ECF6\",\"width\":0.5},\"pattern\":{\"fillmode\":\"overlay\",\"size\":10,\"solidity\":0.2}},\"type\":\"barpolar\"}],\"pie\":[{\"automargin\":true,\"type\":\"pie\"}]},\"layout\":{\"autotypenumbers\":\"strict\",\"colorway\":[\"#636efa\",\"#EF553B\",\"#00cc96\",\"#ab63fa\",\"#FFA15A\",\"#19d3f3\",\"#FF6692\",\"#B6E880\",\"#FF97FF\",\"#FECB52\"],\"font\":{\"color\":\"#2a3f5f\"},\"hovermode\":\"closest\",\"hoverlabel\":{\"align\":\"left\"},\"paper_bgcolor\":\"white\",\"plot_bgcolor\":\"#E5ECF6\",\"polar\":{\"bgcolor\":\"#E5ECF6\",\"angularaxis\":{\"gridcolor\":\"white\",\"linecolor\":\"white\",\"ticks\":\"\"},\"radialaxis\":{\"gridcolor\":\"white\",\"linecolor\":\"white\",\"ticks\":\"\"}},\"ternary\":{\"bgcolor\":\"#E5ECF6\",\"aaxis\":{\"gridcolor\":\"white\",\"linecolor\":\"white\",\"ticks\":\"\"},\"baxis\":{\"gridcolor\":\"white\",\"linecolor\":\"white\",\"ticks\":\"\"},\"caxis\":{\"gridcolor\":\"white\",\"linecolor\":\"white\",\"ticks\":\"\"}},\"coloraxis\":{\"colorbar\":{\"outlinewidth\":0,\"ticks\":\"\"}},\"colorscale\":{\"sequential\":[[0.0,\"#0d0887\"],[0.1111111111111111,\"#46039f\"],[0.2222222222222222,\"#7201a8\"],[0.3333333333333333,\"#9c179e\"],[0.4444444444444444,\"#bd3786\"],[0.5555555555555556,\"#d8576b\"],[0.6666666666666666,\"#ed7953\"],[0.7777777777777778,\"#fb9f3a\"],[0.8888888888888888,\"#fdca26\"],[1.0,\"#f0f921\"]],\"sequentialminus\":[[0.0,\"#0d0887\"],[0.1111111111111111,\"#46039f\"],[0.2222222222222222,\"#7201a8\"],[0.3333333333333333,\"#9c179e\"],[0.4444444444444444,\"#bd3786\"],[0.5555555555555556,\"#d8576b\"],[0.6666666666666666,\"#ed7953\"],[0.7777777777777778,\"#fb9f3a\"],[0.8888888888888888,\"#fdca26\"],[1.0,\"#f0f921\"]],\"diverging\":[[0,\"#8e0152\"],[0.1,\"#c51b7d\"],[0.2,\"#de77ae\"],[0.3,\"#f1b6da\"],[0.4,\"#fde0ef\"],[0.5,\"#f7f7f7\"],[0.6,\"#e6f5d0\"],[0.7,\"#b8e186\"],[0.8,\"#7fbc41\"],[0.9,\"#4d9221\"],[1,\"#276419\"]]},\"xaxis\":{\"gridcolor\":\"white\",\"linecolor\":\"white\",\"ticks\":\"\",\"title\":{\"standoff\":15},\"zerolinecolor\":\"white\",\"automargin\":true,\"zerolinewidth\":2},\"yaxis\":{\"gridcolor\":\"white\",\"linecolor\":\"white\",\"ticks\":\"\",\"title\":{\"standoff\":15},\"zerolinecolor\":\"white\",\"automargin\":true,\"zerolinewidth\":2},\"scene\":{\"xaxis\":{\"backgroundcolor\":\"#E5ECF6\",\"gridcolor\":\"white\",\"linecolor\":\"white\",\"showbackground\":true,\"ticks\":\"\",\"zerolinecolor\":\"white\",\"gridwidth\":2},\"yaxis\":{\"backgroundcolor\":\"#E5ECF6\",\"gridcolor\":\"white\",\"linecolor\":\"white\",\"showbackground\":true,\"ticks\":\"\",\"zerolinecolor\":\"white\",\"gridwidth\":2},\"zaxis\":{\"backgroundcolor\":\"#E5ECF6\",\"gridcolor\":\"white\",\"linecolor\":\"white\",\"showbackground\":true,\"ticks\":\"\",\"zerolinecolor\":\"white\",\"gridwidth\":2}},\"shapedefaults\":{\"line\":{\"color\":\"#2a3f5f\"}},\"annotationdefaults\":{\"arrowcolor\":\"#2a3f5f\",\"arrowhead\":0,\"arrowwidth\":1},\"geo\":{\"bgcolor\":\"white\",\"landcolor\":\"#E5ECF6\",\"subunitcolor\":\"white\",\"showland\":true,\"showlakes\":true,\"lakecolor\":\"white\"},\"title\":{\"x\":0.05},\"mapbox\":{\"style\":\"light\"}}},\"title\":{\"text\":\"First 3 pricipal components of PathologyGAN's PCA feature\"},\"legend\":{\"title\":{\"text\":\"Legend Title\"}}},                        {\"responsive\": true}                    ).then(function(){\n",
              "                            \n",
              "var gd = document.getElementById('d17dc4fb-d2e9-4081-9076-2f4a165b8ace');\n",
              "var x = new MutationObserver(function (mutations, observer) {{\n",
              "        var display = window.getComputedStyle(gd).display;\n",
              "        if (!display || display === 'none') {{\n",
              "            console.log([gd, 'removed!']);\n",
              "            Plotly.purge(gd);\n",
              "            observer.disconnect();\n",
              "        }}\n",
              "}});\n",
              "\n",
              "// Listen for the removal of the full notebook cells\n",
              "var notebookContainer = gd.closest('#notebook-container');\n",
              "if (notebookContainer) {{\n",
              "    x.observe(notebookContainer, {childList: true});\n",
              "}}\n",
              "\n",
              "// Listen for the clearing of the current output cell\n",
              "var outputEl = gd.closest('.output');\n",
              "if (outputEl) {{\n",
              "    x.observe(outputEl, {childList: true});\n",
              "}}\n",
              "\n",
              "                        })                };                            </script>        </div>\n",
              "</body>\n",
              "</html>"
            ]
          },
          "metadata": {}
        }
      ],
      "source": [
        "traces_pge = []\n",
        "for name in np.unique(labels_pge):\n",
        "    trace_pge = go.Scatter3d(\n",
        "        x=test_data_pge[test_label_pge==name,0],\n",
        "        y=test_data_pge[test_label_pge==name,1],\n",
        "        z=test_data_pge[test_label_pge==name,2],\n",
        "        mode='markers',\n",
        "        name=name,\n",
        "        marker=go.scatter3d.Marker(size=4,opacity=0.8)\n",
        "    )\n",
        "    traces_pge.append(trace_pge)\n",
        "\n",
        "\n",
        "data = go.Data(traces_pge)\n",
        "layout = go.Layout(\n",
        "            showlegend=True,\n",
        "    scene=go.Scene(\n",
        "                xaxis=go.layout.scene.XAxis(title='PC1'),\n",
        "                yaxis=go.layout.scene.YAxis(title='PC2'),\n",
        "                zaxis=go.layout.scene.ZAxis(title='PC3')\n",
        "                )\n",
        ")\n",
        "fig = go.Figure(data=data, layout=layout)\n",
        "fig.update_layout(\n",
        "    title=\"First 3 pricipal components of PathologyGAN's PCA feature\",\n",
        "    legend_title=\"Legend Title\",\n",
        ")\n",
        "\n",
        "fig.show()\n"
      ]
    },
    {
      "cell_type": "code",
      "source": [
        "traces_vgg = []\n",
        "for name in np.unique(labels_vgg):\n",
        "    trace_vgg = go.Scatter3d(\n",
        "        x=test_data_vgg[test_label_vgg==name,0],\n",
        "        y=test_data_vgg[test_label_vgg==name,1],\n",
        "        z=test_data_vgg[test_label_vgg==name,2],\n",
        "        mode='markers',\n",
        "        name=name,\n",
        "        marker=go.scatter3d.Marker(size=4,opacity=0.8)\n",
        "    )\n",
        "    traces_vgg.append(trace_vgg)\n",
        "\n",
        "\n",
        "data = go.Data(traces_vgg)\n",
        "layout = go.Layout(\n",
        "            showlegend=True,\n",
        "    scene=go.Scene(\n",
        "                xaxis=go.layout.scene.XAxis(title='PC1'),\n",
        "                yaxis=go.layout.scene.YAxis(title='PC2'),\n",
        "                zaxis=go.layout.scene.ZAxis(title='PC3')\n",
        "                )\n",
        ")\n",
        "fig = go.Figure(data=data, layout=layout)\n",
        "fig.update_layout(\n",
        "    title=\"First 3 pricipal components of VGG16's PCA feature\",\n",
        "    legend_title=\"Legend Title\",\n",
        ")\n",
        "\n",
        "fig.show()"
      ],
      "metadata": {
        "colab": {
          "base_uri": "https://localhost:8080/",
          "height": 854
        },
        "id": "p9tVPdDWl3zq",
        "outputId": "22b25631-00d1-4fc3-ec23-f8f8ef5a697e"
      },
      "execution_count": null,
      "outputs": [
        {
          "output_type": "stream",
          "name": "stderr",
          "text": [
            "/usr/local/lib/python3.10/dist-packages/plotly/graph_objs/_deprecations.py:31: DeprecationWarning:\n",
            "\n",
            "plotly.graph_objs.Data is deprecated.\n",
            "Please replace it with a list or tuple of instances of the following types\n",
            "  - plotly.graph_objs.Scatter\n",
            "  - plotly.graph_objs.Bar\n",
            "  - plotly.graph_objs.Area\n",
            "  - plotly.graph_objs.Histogram\n",
            "  - etc.\n",
            "\n",
            "\n",
            "/usr/local/lib/python3.10/dist-packages/plotly/graph_objs/_deprecations.py:489: DeprecationWarning:\n",
            "\n",
            "plotly.graph_objs.Scene is deprecated.\n",
            "Please replace it with one of the following more specific types\n",
            "  - plotly.graph_objs.layout.Scene\n",
            "\n",
            "\n"
          ]
        },
        {
          "output_type": "display_data",
          "data": {
            "text/html": [
              "<html>\n",
              "<head><meta charset=\"utf-8\" /></head>\n",
              "<body>\n",
              "    <div>            <script src=\"https://cdnjs.cloudflare.com/ajax/libs/mathjax/2.7.5/MathJax.js?config=TeX-AMS-MML_SVG\"></script><script type=\"text/javascript\">if (window.MathJax && window.MathJax.Hub && window.MathJax.Hub.Config) {window.MathJax.Hub.Config({SVG: {font: \"STIX-Web\"}});}</script>                <script type=\"text/javascript\">window.PlotlyConfig = {MathJaxConfig: 'local'};</script>\n",
              "        <script charset=\"utf-8\" src=\"https://cdn.plot.ly/plotly-2.24.1.min.js\"></script>                <div id=\"dd0eb865-1582-43f8-9af6-be3f36a9f80c\" class=\"plotly-graph-div\" style=\"height:525px; width:100%;\"></div>            <script type=\"text/javascript\">                                    window.PLOTLYENV=window.PLOTLYENV || {};                                    if (document.getElementById(\"dd0eb865-1582-43f8-9af6-be3f36a9f80c\")) {                    Plotly.newPlot(                        \"dd0eb865-1582-43f8-9af6-be3f36a9f80c\",                        [{\"marker\":{\"opacity\":0.8,\"size\":4},\"mode\":\"markers\",\"name\":\"ADI\",\"x\":[3.47930908203125,2.7640411853790283,2.8014707565307617,2.774887800216675,2.837169647216797,3.1232640743255615,2.7089481353759766,3.5387039184570312,3.45188307762146,3.0509750843048096,2.7712900638580322,2.9321765899658203,3.7956902980804443,2.7041378021240234,2.8032302856445312,3.3328914642333984,2.9341466426849365,2.880382776260376,3.294987916946411,2.8019251823425293,3.1742804050445557,2.8354809284210205,2.8309755325317383,2.750943183898926],\"y\":[10.219449996948242,9.5624361038208,9.59580135345459,9.73264217376709,9.671647071838379,10.17108154296875,10.449931144714355,9.973824501037598,10.095423698425293,9.91234016418457,9.76982593536377,10.197500228881836,9.850872993469238,10.377969741821289,9.655014991760254,9.950179100036621,10.299606323242188,10.397268295288086,10.000429153442383,10.351541519165039,9.914735794067383,10.25614070892334,10.088655471801758,9.870664596557617],\"z\":[2.2723984718322754,1.7779555320739746,1.862097978591919,1.6269761323928833,1.7483774423599243,1.929822325706482,1.2977304458618164,2.6558520793914795,2.4999823570251465,2.315931797027588,1.5798091888427734,1.8308796882629395,2.8271751403808594,1.3580076694488525,1.8076400756835938,2.5802555084228516,1.74515700340271,1.3736951351165771,2.2285821437835693,1.5693728923797607,2.362797975540161,1.7850373983383179,1.8422831296920776,1.4868465662002563],\"type\":\"scatter3d\"},{\"marker\":{\"opacity\":0.8,\"size\":4},\"mode\":\"markers\",\"name\":\"BACK\",\"x\":[-2.8528504371643066,-2.8449976444244385,-3.4912757873535156,-2.396578073501587,-3.0005686283111572,0.862820029258728,-2.9290266036987305,-3.3677167892456055,-2.81064510345459,1.2212817668914795,-2.3621914386749268,-3.152864694595337,-3.002213716506958,-3.180356740951538,-3.006498336791992,-0.9804580211639404,-2.9596033096313477,-3.535853147506714,0.938746988773346,3.5118706226348877,-3.136739492416382,0.9493899345397949,-2.545478343963623,-2.378708839416504],\"y\":[2.863506555557251,2.5932674407958984,1.9181586503982544,3.3068015575408936,2.638993263244629,4.47368049621582,2.680769443511963,2.2520227432250977,2.845984935760498,4.985313415527344,3.3378968238830566,2.4818644523620605,2.5925040245056152,2.5970616340637207,2.68007230758667,2.4272093772888184,2.691087484359741,1.8570563793182373,4.404349327087402,5.2916412353515625,2.8102216720581055,4.742674827575684,2.481300115585327,3.300060510635376],\"z\":[7.952981948852539,8.167386054992676,8.741286277770996,7.23264217376709,8.106832504272461,7.277636528015137,8.069536209106445,8.442599296569824,7.982208728790283,6.979466438293457,7.1979289054870605,8.251276016235352,8.171039581298828,8.142597198486328,8.062553405761719,8.55699348449707,8.054095268249512,8.799355506896973,7.430088996887207,7.084742069244385,7.907652378082275,7.10920524597168,8.32327938079834,7.2295427322387695],\"type\":\"scatter3d\"},{\"marker\":{\"opacity\":0.8,\"size\":4},\"mode\":\"markers\",\"name\":\"DEB\",\"x\":[8.523585319519043,8.928239822387695,8.978093147277832,9.722936630249023,8.428717613220215,9.15207290649414,9.40589714050293,9.072479248046875,9.241235733032227,8.49449348449707,8.66598892211914,9.247906684875488,9.428025245666504,8.472984313964844,9.270559310913086,8.441155433654785,8.939584732055664,9.259285926818848,8.757654190063477,9.137311935424805,9.435791969299316,9.05587100982666,9.543899536132812,8.246509552001953,9.272919654846191],\"y\":[2.9085490703582764,3.0417721271514893,3.5018553733825684,3.1672017574310303,4.9553117752075195,3.0519461631774902,3.5166404247283936,2.829618453979492,3.0623106956481934,4.87794828414917,3.4571399688720703,3.213209629058838,3.5942883491516113,5.160635948181152,4.2900261878967285,4.787466049194336,4.639932155609131,3.216935634613037,4.608156204223633,3.1530473232269287,3.000739574432373,2.926708459854126,3.018674612045288,5.649075984954834,3.2056658267974854],\"z\":[7.396042346954346,7.870759963989258,8.291960716247559,8.581668853759766,9.08803939819336,9.403912544250488,8.859700202941895,7.789734363555908,9.227952003479004,9.020986557006836,8.146665573120117,9.038407325744629,8.915365219116211,9.428528785705566,9.146714210510254,9.215645790100098,8.67283821105957,8.971844673156738,9.042102813720703,9.319043159484863,7.897314548492432,7.930233955383301,8.094254493713379,9.396674156188965,8.939160346984863],\"type\":\"scatter3d\"},{\"marker\":{\"opacity\":0.8,\"size\":4},\"mode\":\"markers\",\"name\":\"LYM\",\"x\":[9.920685768127441,10.087153434753418,10.089923858642578,9.403233528137207,9.943090438842773,10.227540016174316,10.118963241577148,10.015119552612305,9.87022876739502,9.946626663208008,10.166943550109863,9.915785789489746,10.030271530151367,9.900723457336426,9.93829345703125,9.836575508117676,10.206192970275879],\"y\":[-0.23098224401474,-0.7566976547241211,-0.9143084287643433,2.276900291442871,-0.20728982985019684,-1.4376435279846191,-1.1144713163375854,-0.5214406251907349,-0.19930335879325867,-0.2863270938396454,-1.2613060474395752,-0.2244078665971756,-0.6954285502433777,-0.14740324020385742,-0.3255530595779419,0.06511349976062775,-1.372660517692566],\"z\":[3.630448818206787,2.653083086013794,2.225768804550171,7.062996864318848,3.800116539001465,1.6267452239990234,1.9150809049606323,3.1711487770080566,3.7312026023864746,3.7314341068267822,1.8019253015518188,3.799180030822754,2.883251190185547,3.8668911457061768,3.6821625232696533,4.141304016113281,1.6645573377609253],\"type\":\"scatter3d\"},{\"marker\":{\"opacity\":0.8,\"size\":4},\"mode\":\"markers\",\"name\":\"MUC\",\"x\":[8.065021514892578,7.737178325653076,7.81446647644043,7.873976707458496,2.7993524074554443,7.810245990753174,8.52367115020752,8.304852485656738,8.243762969970703,7.688994407653809,7.871860980987549,7.799402713775635,7.722874641418457,7.823753356933594,7.98942232131958,8.071420669555664,7.757640838623047,8.069787979125977,7.886396884918213,7.863444805145264],\"y\":[5.113072395324707,5.491045951843262,5.277340412139893,5.145998477935791,9.400096893310547,5.4177374839782715,5.111812114715576,5.252233028411865,5.849201202392578,4.924881935119629,6.242433547973633,5.34552526473999,5.4324951171875,5.4530534744262695,6.173085689544678,5.146315574645996,5.689891338348389,5.013308525085449,5.511876106262207,5.075428009033203],\"z\":[8.264998435974121,8.97376537322998,8.54684829711914,8.770960807800293,1.9298990964889526,8.295374870300293,8.713089942932129,9.232420921325684,9.521636009216309,8.369390487670898,9.900620460510254,8.531600952148438,8.78796672821045,8.543984413146973,9.877784729003906,8.792659759521484,8.579666137695312,8.262138366699219,8.688956260681152,8.930119514465332],\"type\":\"scatter3d\"},{\"marker\":{\"opacity\":0.8,\"size\":4},\"mode\":\"markers\",\"name\":\"MUS\",\"x\":[8.401434898376465,8.358847618103027,8.325547218322754,7.957878589630127,8.409213066101074,8.400727272033691,6.935779094696045,8.19994831085205,7.0327653884887695,7.924374103546143,7.523895740509033,7.936136722564697,8.30463981628418,7.870774269104004,7.858120441436768,7.786377906799316,7.4261016845703125,7.117397785186768,7.925337314605713,8.02851676940918,7.061408519744873,8.210373878479004,7.9783148765563965,7.219888687133789,7.728494644165039,8.294034004211426,8.334418296813965,7.178260326385498,8.308687210083008,7.7851691246032715,8.180705070495605],\"y\":[5.5115790367126465,5.612629413604736,5.392976760864258,6.694549560546875,5.556662559509277,5.531741142272949,6.467005729675293,6.178368091583252,6.468481063842773,6.35209321975708,6.178095817565918,6.598317623138428,5.670690059661865,6.6677703857421875,6.212843894958496,6.336857318878174,6.195499897003174,6.4201884269714355,6.2786478996276855,6.222772121429443,6.553377628326416,5.738046646118164,6.175333023071289,6.426573276519775,6.321133613586426,5.485458850860596,5.5366315841674805,6.4965009689331055,5.785275459289551,6.926904201507568,5.921942234039307],\"z\":[9.838894844055176,9.733511924743652,9.640641212463379,10.173911094665527,9.824844360351562,9.765287399291992,9.482110023498535,10.07784652709961,9.674607276916504,10.145953178405762,10.195850372314453,10.166102409362793,9.861944198608398,10.194038391113281,9.996063232421875,10.112401962280273,9.66081714630127,9.881635665893555,10.043593406677246,9.927663803100586,9.508550643920898,9.392084121704102,9.774616241455078,10.14454174041748,10.102017402648926,10.080422401428223,9.917203903198242,9.775656700134277,9.563711166381836,10.25332260131836,9.648990631103516],\"type\":\"scatter3d\"},{\"marker\":{\"opacity\":0.8,\"size\":4},\"mode\":\"markers\",\"name\":\"NORM\",\"x\":[8.14997673034668,9.0764741897583,8.538451194763184,8.618470191955566,8.98519229888916,9.281487464904785,8.292618751525879,8.655281066894531,9.354440689086914,8.156782150268555,8.999553680419922,8.54939079284668,8.574684143066406,8.842154502868652,8.526582717895508,9.220515251159668,9.142845153808594],\"y\":[5.380500316619873,3.8036000728607178,5.118056774139404,4.924793720245361,4.1222100257873535,3.394005060195923,4.89457368850708,4.371984958648682,3.293548583984375,5.2361979484558105,3.8668484687805176,5.212337970733643,5.109798431396484,4.015553951263428,5.113242149353027,3.504586935043335,4.958604335784912],\"z\":[8.682805061340332,8.07708740234375,8.49608039855957,9.076510429382324,8.505096435546875,8.444531440734863,8.2614164352417,7.901947498321533,8.119057655334473,8.540818214416504,7.883152484893799,8.713371276855469,8.521886825561523,7.822341442108154,8.54970645904541,8.0302095413208,9.307455062866211],\"type\":\"scatter3d\"},{\"marker\":{\"opacity\":0.8,\"size\":4},\"mode\":\"markers\",\"name\":\"STR\",\"x\":[7.987059593200684,8.101706504821777,7.860899925231934,8.552597999572754,8.4027738571167,7.977638244628906,8.720772743225098,8.478439331054688,7.983279228210449,8.843908309936523,8.477004051208496,8.417494773864746,8.729820251464844,8.035737991333008,8.590202331542969],\"y\":[6.382606029510498,6.013163089752197,6.53572416305542,5.2404985427856445,5.536828517913818,6.361079216003418,4.708403587341309,5.319437026977539,6.488746643066406,4.352672576904297,5.039957523345947,5.3267741203308105,4.691461563110352,6.525434494018555,4.862904071807861],\"z\":[10.119940757751465,9.62675666809082,10.110452651977539,8.936240196228027,9.729055404663086,10.134836196899414,8.879182815551758,9.44453239440918,10.131104469299316,9.01855754852295,9.539989471435547,9.485569953918457,8.98762035369873,10.03662395477295,9.343656539916992],\"type\":\"scatter3d\"},{\"marker\":{\"opacity\":0.8,\"size\":4},\"mode\":\"markers\",\"name\":\"TUM\",\"x\":[8.746992111206055,9.465635299682617,9.238325119018555,9.337366104125977,9.268816947937012,9.179431915283203,9.241325378417969,8.286707878112793,9.2924222946167,9.437270164489746,9.235742568969727,9.343421936035156,8.757393836975098,9.310789108276367,8.793074607849121,9.153158187866211,9.019211769104004,9.283377647399902,8.802634239196777,8.669763565063477,9.489832878112793,8.81851863861084,9.046708106994629,9.025521278381348,9.213966369628906,8.802541732788086,8.977402687072754],\"y\":[3.6531240940093994,4.5107502937316895,4.834710597991943,4.564350605010986,3.910182476043701,3.853656768798828,4.413620948791504,4.6684489250183105,4.444549560546875,4.381061553955078,4.3331732749938965,4.273930072784424,3.641643524169922,4.735395908355713,3.6777660846710205,4.638838768005371,3.8741512298583984,4.301244258880615,3.6779134273529053,3.8107235431671143,4.53166389465332,3.8345320224761963,3.4940459728240967,4.991183757781982,4.748486042022705,5.030672073364258,4.9507832527160645],\"z\":[8.23148250579834,9.333752632141113,9.468585014343262,9.315993309020996,8.75912857055664,8.834210395812988,9.30307388305664,8.502614974975586,9.287303924560547,9.243314743041992,8.797701835632324,9.02641773223877,8.273940086364746,9.412047386169434,8.266706466674805,9.140660285949707,8.46858024597168,9.238908767700195,8.297721862792969,8.331647872924805,9.426436424255371,8.321341514587402,8.762734413146973,9.248507499694824,9.207991600036621,9.066262245178223,9.334122657775879],\"type\":\"scatter3d\"}],                        {\"scene\":{\"xaxis\":{\"title\":{\"text\":\"PC1\"}},\"yaxis\":{\"title\":{\"text\":\"PC2\"}},\"zaxis\":{\"title\":{\"text\":\"PC3\"}}},\"showlegend\":true,\"template\":{\"data\":{\"histogram2dcontour\":[{\"type\":\"histogram2dcontour\",\"colorbar\":{\"outlinewidth\":0,\"ticks\":\"\"},\"colorscale\":[[0.0,\"#0d0887\"],[0.1111111111111111,\"#46039f\"],[0.2222222222222222,\"#7201a8\"],[0.3333333333333333,\"#9c179e\"],[0.4444444444444444,\"#bd3786\"],[0.5555555555555556,\"#d8576b\"],[0.6666666666666666,\"#ed7953\"],[0.7777777777777778,\"#fb9f3a\"],[0.8888888888888888,\"#fdca26\"],[1.0,\"#f0f921\"]]}],\"choropleth\":[{\"type\":\"choropleth\",\"colorbar\":{\"outlinewidth\":0,\"ticks\":\"\"}}],\"histogram2d\":[{\"type\":\"histogram2d\",\"colorbar\":{\"outlinewidth\":0,\"ticks\":\"\"},\"colorscale\":[[0.0,\"#0d0887\"],[0.1111111111111111,\"#46039f\"],[0.2222222222222222,\"#7201a8\"],[0.3333333333333333,\"#9c179e\"],[0.4444444444444444,\"#bd3786\"],[0.5555555555555556,\"#d8576b\"],[0.6666666666666666,\"#ed7953\"],[0.7777777777777778,\"#fb9f3a\"],[0.8888888888888888,\"#fdca26\"],[1.0,\"#f0f921\"]]}],\"heatmap\":[{\"type\":\"heatmap\",\"colorbar\":{\"outlinewidth\":0,\"ticks\":\"\"},\"colorscale\":[[0.0,\"#0d0887\"],[0.1111111111111111,\"#46039f\"],[0.2222222222222222,\"#7201a8\"],[0.3333333333333333,\"#9c179e\"],[0.4444444444444444,\"#bd3786\"],[0.5555555555555556,\"#d8576b\"],[0.6666666666666666,\"#ed7953\"],[0.7777777777777778,\"#fb9f3a\"],[0.8888888888888888,\"#fdca26\"],[1.0,\"#f0f921\"]]}],\"heatmapgl\":[{\"type\":\"heatmapgl\",\"colorbar\":{\"outlinewidth\":0,\"ticks\":\"\"},\"colorscale\":[[0.0,\"#0d0887\"],[0.1111111111111111,\"#46039f\"],[0.2222222222222222,\"#7201a8\"],[0.3333333333333333,\"#9c179e\"],[0.4444444444444444,\"#bd3786\"],[0.5555555555555556,\"#d8576b\"],[0.6666666666666666,\"#ed7953\"],[0.7777777777777778,\"#fb9f3a\"],[0.8888888888888888,\"#fdca26\"],[1.0,\"#f0f921\"]]}],\"contourcarpet\":[{\"type\":\"contourcarpet\",\"colorbar\":{\"outlinewidth\":0,\"ticks\":\"\"}}],\"contour\":[{\"type\":\"contour\",\"colorbar\":{\"outlinewidth\":0,\"ticks\":\"\"},\"colorscale\":[[0.0,\"#0d0887\"],[0.1111111111111111,\"#46039f\"],[0.2222222222222222,\"#7201a8\"],[0.3333333333333333,\"#9c179e\"],[0.4444444444444444,\"#bd3786\"],[0.5555555555555556,\"#d8576b\"],[0.6666666666666666,\"#ed7953\"],[0.7777777777777778,\"#fb9f3a\"],[0.8888888888888888,\"#fdca26\"],[1.0,\"#f0f921\"]]}],\"surface\":[{\"type\":\"surface\",\"colorbar\":{\"outlinewidth\":0,\"ticks\":\"\"},\"colorscale\":[[0.0,\"#0d0887\"],[0.1111111111111111,\"#46039f\"],[0.2222222222222222,\"#7201a8\"],[0.3333333333333333,\"#9c179e\"],[0.4444444444444444,\"#bd3786\"],[0.5555555555555556,\"#d8576b\"],[0.6666666666666666,\"#ed7953\"],[0.7777777777777778,\"#fb9f3a\"],[0.8888888888888888,\"#fdca26\"],[1.0,\"#f0f921\"]]}],\"mesh3d\":[{\"type\":\"mesh3d\",\"colorbar\":{\"outlinewidth\":0,\"ticks\":\"\"}}],\"scatter\":[{\"fillpattern\":{\"fillmode\":\"overlay\",\"size\":10,\"solidity\":0.2},\"type\":\"scatter\"}],\"parcoords\":[{\"type\":\"parcoords\",\"line\":{\"colorbar\":{\"outlinewidth\":0,\"ticks\":\"\"}}}],\"scatterpolargl\":[{\"type\":\"scatterpolargl\",\"marker\":{\"colorbar\":{\"outlinewidth\":0,\"ticks\":\"\"}}}],\"bar\":[{\"error_x\":{\"color\":\"#2a3f5f\"},\"error_y\":{\"color\":\"#2a3f5f\"},\"marker\":{\"line\":{\"color\":\"#E5ECF6\",\"width\":0.5},\"pattern\":{\"fillmode\":\"overlay\",\"size\":10,\"solidity\":0.2}},\"type\":\"bar\"}],\"scattergeo\":[{\"type\":\"scattergeo\",\"marker\":{\"colorbar\":{\"outlinewidth\":0,\"ticks\":\"\"}}}],\"scatterpolar\":[{\"type\":\"scatterpolar\",\"marker\":{\"colorbar\":{\"outlinewidth\":0,\"ticks\":\"\"}}}],\"histogram\":[{\"marker\":{\"pattern\":{\"fillmode\":\"overlay\",\"size\":10,\"solidity\":0.2}},\"type\":\"histogram\"}],\"scattergl\":[{\"type\":\"scattergl\",\"marker\":{\"colorbar\":{\"outlinewidth\":0,\"ticks\":\"\"}}}],\"scatter3d\":[{\"type\":\"scatter3d\",\"line\":{\"colorbar\":{\"outlinewidth\":0,\"ticks\":\"\"}},\"marker\":{\"colorbar\":{\"outlinewidth\":0,\"ticks\":\"\"}}}],\"scattermapbox\":[{\"type\":\"scattermapbox\",\"marker\":{\"colorbar\":{\"outlinewidth\":0,\"ticks\":\"\"}}}],\"scatterternary\":[{\"type\":\"scatterternary\",\"marker\":{\"colorbar\":{\"outlinewidth\":0,\"ticks\":\"\"}}}],\"scattercarpet\":[{\"type\":\"scattercarpet\",\"marker\":{\"colorbar\":{\"outlinewidth\":0,\"ticks\":\"\"}}}],\"carpet\":[{\"aaxis\":{\"endlinecolor\":\"#2a3f5f\",\"gridcolor\":\"white\",\"linecolor\":\"white\",\"minorgridcolor\":\"white\",\"startlinecolor\":\"#2a3f5f\"},\"baxis\":{\"endlinecolor\":\"#2a3f5f\",\"gridcolor\":\"white\",\"linecolor\":\"white\",\"minorgridcolor\":\"white\",\"startlinecolor\":\"#2a3f5f\"},\"type\":\"carpet\"}],\"table\":[{\"cells\":{\"fill\":{\"color\":\"#EBF0F8\"},\"line\":{\"color\":\"white\"}},\"header\":{\"fill\":{\"color\":\"#C8D4E3\"},\"line\":{\"color\":\"white\"}},\"type\":\"table\"}],\"barpolar\":[{\"marker\":{\"line\":{\"color\":\"#E5ECF6\",\"width\":0.5},\"pattern\":{\"fillmode\":\"overlay\",\"size\":10,\"solidity\":0.2}},\"type\":\"barpolar\"}],\"pie\":[{\"automargin\":true,\"type\":\"pie\"}]},\"layout\":{\"autotypenumbers\":\"strict\",\"colorway\":[\"#636efa\",\"#EF553B\",\"#00cc96\",\"#ab63fa\",\"#FFA15A\",\"#19d3f3\",\"#FF6692\",\"#B6E880\",\"#FF97FF\",\"#FECB52\"],\"font\":{\"color\":\"#2a3f5f\"},\"hovermode\":\"closest\",\"hoverlabel\":{\"align\":\"left\"},\"paper_bgcolor\":\"white\",\"plot_bgcolor\":\"#E5ECF6\",\"polar\":{\"bgcolor\":\"#E5ECF6\",\"angularaxis\":{\"gridcolor\":\"white\",\"linecolor\":\"white\",\"ticks\":\"\"},\"radialaxis\":{\"gridcolor\":\"white\",\"linecolor\":\"white\",\"ticks\":\"\"}},\"ternary\":{\"bgcolor\":\"#E5ECF6\",\"aaxis\":{\"gridcolor\":\"white\",\"linecolor\":\"white\",\"ticks\":\"\"},\"baxis\":{\"gridcolor\":\"white\",\"linecolor\":\"white\",\"ticks\":\"\"},\"caxis\":{\"gridcolor\":\"white\",\"linecolor\":\"white\",\"ticks\":\"\"}},\"coloraxis\":{\"colorbar\":{\"outlinewidth\":0,\"ticks\":\"\"}},\"colorscale\":{\"sequential\":[[0.0,\"#0d0887\"],[0.1111111111111111,\"#46039f\"],[0.2222222222222222,\"#7201a8\"],[0.3333333333333333,\"#9c179e\"],[0.4444444444444444,\"#bd3786\"],[0.5555555555555556,\"#d8576b\"],[0.6666666666666666,\"#ed7953\"],[0.7777777777777778,\"#fb9f3a\"],[0.8888888888888888,\"#fdca26\"],[1.0,\"#f0f921\"]],\"sequentialminus\":[[0.0,\"#0d0887\"],[0.1111111111111111,\"#46039f\"],[0.2222222222222222,\"#7201a8\"],[0.3333333333333333,\"#9c179e\"],[0.4444444444444444,\"#bd3786\"],[0.5555555555555556,\"#d8576b\"],[0.6666666666666666,\"#ed7953\"],[0.7777777777777778,\"#fb9f3a\"],[0.8888888888888888,\"#fdca26\"],[1.0,\"#f0f921\"]],\"diverging\":[[0,\"#8e0152\"],[0.1,\"#c51b7d\"],[0.2,\"#de77ae\"],[0.3,\"#f1b6da\"],[0.4,\"#fde0ef\"],[0.5,\"#f7f7f7\"],[0.6,\"#e6f5d0\"],[0.7,\"#b8e186\"],[0.8,\"#7fbc41\"],[0.9,\"#4d9221\"],[1,\"#276419\"]]},\"xaxis\":{\"gridcolor\":\"white\",\"linecolor\":\"white\",\"ticks\":\"\",\"title\":{\"standoff\":15},\"zerolinecolor\":\"white\",\"automargin\":true,\"zerolinewidth\":2},\"yaxis\":{\"gridcolor\":\"white\",\"linecolor\":\"white\",\"ticks\":\"\",\"title\":{\"standoff\":15},\"zerolinecolor\":\"white\",\"automargin\":true,\"zerolinewidth\":2},\"scene\":{\"xaxis\":{\"backgroundcolor\":\"#E5ECF6\",\"gridcolor\":\"white\",\"linecolor\":\"white\",\"showbackground\":true,\"ticks\":\"\",\"zerolinecolor\":\"white\",\"gridwidth\":2},\"yaxis\":{\"backgroundcolor\":\"#E5ECF6\",\"gridcolor\":\"white\",\"linecolor\":\"white\",\"showbackground\":true,\"ticks\":\"\",\"zerolinecolor\":\"white\",\"gridwidth\":2},\"zaxis\":{\"backgroundcolor\":\"#E5ECF6\",\"gridcolor\":\"white\",\"linecolor\":\"white\",\"showbackground\":true,\"ticks\":\"\",\"zerolinecolor\":\"white\",\"gridwidth\":2}},\"shapedefaults\":{\"line\":{\"color\":\"#2a3f5f\"}},\"annotationdefaults\":{\"arrowcolor\":\"#2a3f5f\",\"arrowhead\":0,\"arrowwidth\":1},\"geo\":{\"bgcolor\":\"white\",\"landcolor\":\"#E5ECF6\",\"subunitcolor\":\"white\",\"showland\":true,\"showlakes\":true,\"lakecolor\":\"white\"},\"title\":{\"x\":0.05},\"mapbox\":{\"style\":\"light\"}}},\"title\":{\"text\":\"First 3 pricipal components of VGG16's PCA feature\"},\"legend\":{\"title\":{\"text\":\"Legend Title\"}}},                        {\"responsive\": true}                    ).then(function(){\n",
              "                            \n",
              "var gd = document.getElementById('dd0eb865-1582-43f8-9af6-be3f36a9f80c');\n",
              "var x = new MutationObserver(function (mutations, observer) {{\n",
              "        var display = window.getComputedStyle(gd).display;\n",
              "        if (!display || display === 'none') {{\n",
              "            console.log([gd, 'removed!']);\n",
              "            Plotly.purge(gd);\n",
              "            observer.disconnect();\n",
              "        }}\n",
              "}});\n",
              "\n",
              "// Listen for the removal of the full notebook cells\n",
              "var notebookContainer = gd.closest('#notebook-container');\n",
              "if (notebookContainer) {{\n",
              "    x.observe(notebookContainer, {childList: true});\n",
              "}}\n",
              "\n",
              "// Listen for the clearing of the current output cell\n",
              "var outputEl = gd.closest('.output');\n",
              "if (outputEl) {{\n",
              "    x.observe(outputEl, {childList: true});\n",
              "}}\n",
              "\n",
              "                        })                };                            </script>        </div>\n",
              "</body>\n",
              "</html>"
            ]
          },
          "metadata": {}
        }
      ]
    },
    {
      "cell_type": "markdown",
      "source": [],
      "metadata": {
        "id": "Eumpo5y0plqL"
      }
    },
    {
      "cell_type": "markdown",
      "metadata": {
        "id": "aDjCuOipZdpi"
      },
      "source": [
        "### Model training"
      ]
    },
    {
      "cell_type": "code",
      "execution_count": null,
      "metadata": {
        "id": "JG03pzA3Zdpi"
      },
      "outputs": [],
      "source": [
        "from sklearn.mixture import GaussianMixture\n",
        "from sknetwork.clustering import Louvain\n"
      ]
    },
    {
      "cell_type": "code",
      "source": [
        "silhouette_scores = []\n",
        "v_measure_scores = []\n",
        "number_of_members=[]\n",
        "n_clusters_list=list(range(3,7))\n",
        "\n",
        "for n_clusters in range(3, 7):\n",
        "  gmm_vgg= GaussianMixture(n_components=n_clusters, random_state=0)\n",
        "  gmm_vgg.fit(test_data_vgg)  # fit for pca\n",
        "  gmm_assignment= gmm_vgg.predict(test_data_vgg)  # Use combined_data here if needed\n",
        "\n",
        "  gmm_silhouette = skm.silhouette_score(test_data_vgg, gmm_assignment)\n",
        "  silhouette_scores.append(gmm_silhouette)\n",
        "\n",
        "  gmm_v_measure = skm.v_measure_score(test_label_vgg, gmm_assignment)\n",
        "  v_measure_scores.append(gmm_v_measure)\n",
        "\n",
        "  gmm_counts = np.unique(gmm_assignment, return_counts = True)\n",
        "  number_of_members.append(gmm_counts)\n",
        "A=pd.DataFrame({\n",
        "    'Number of Clusters': n_clusters_list,\n",
        "    'Silhouette Score': silhouette_scores,\n",
        "    'V-measure Score': v_measure_scores\n",
        "})\n",
        "\n",
        "plt.subplot(2, 1, 1)\n",
        "plt.plot(A['Number of Clusters'], A['Silhouette Score'], marker='o')\n",
        "plt.title('Silhouette Score vs. Number of Clusters')\n",
        "plt.xlabel('Number of Clusters')\n",
        "plt.ylabel('Silhouette Score')\n",
        "plt.grid(True)\n",
        "\n",
        "# Stacked bar plot for number of members\n",
        "plt.subplot(2, 1, 2)\n",
        "plt.plot(A['Number of Clusters'], A['V-measure Score'], marker='o')\n",
        "plt.title('V-measure Score vs. Number of Clusters')\n",
        "plt.xlabel('Number of Clusters')\n",
        "plt.ylabel('V-measure Score')\n",
        "plt.grid(True)\n",
        "\n",
        "plt.tight_layout()\n",
        "plt.show()\n",
        "print(silhouette_scores)\n",
        "print(v_measure_scores)"
      ],
      "metadata": {
        "id": "dd2Rf-k6sLvw",
        "colab": {
          "base_uri": "https://localhost:8080/",
          "height": 521
        },
        "outputId": "0d6ef5ad-f710-4253-c169-6e115fe351c0"
      },
      "execution_count": null,
      "outputs": [
        {
          "output_type": "display_data",
          "data": {
            "text/plain": [
              "<Figure size 640x480 with 2 Axes>"
            ],
            "image/png": "[encoded data removed]"
          },
          "metadata": {}
        },
        {
          "output_type": "stream",
          "name": "stdout",
          "text": [
            "[0.6588965, 0.6809832, 0.513021, 0.5241888]\n",
            "[0.4684034906902612, 0.5808651092558016, 0.6755430556376719, 0.6896487887802087]\n"
          ]
        }
      ]
    },
    {
      "cell_type": "markdown",
      "metadata": {
        "id": "1yGgcpLnZdpi"
      },
      "source": [
        "### Evaluation and Visualisation"
      ]
    },
    {
      "cell_type": "markdown",
      "metadata": {
        "id": "WggerG7PZdpj"
      },
      "source": [
        "* check out number of clusters/cluster assignment counts"
      ]
    },
    {
      "cell_type": "code",
      "execution_count": null,
      "metadata": {
        "colab": {
          "base_uri": "https://localhost:8080/"
        },
        "id": "9fdx1lfgZdpj",
        "outputId": "9ec3f345-1c20-4492-add8-c8d55759a10a"
      },
      "outputs": [
        {
          "output_type": "stream",
          "name": "stdout",
          "text": [
            "Number of Clusters: 3\n",
            "+----+-----------+---------------------+\n",
            "|    |   Cluster |   Number of Members |\n",
            "+====+===========+=====================+\n",
            "|  0 |         0 |                 152 |\n",
            "+----+-----------+---------------------+\n",
            "|  1 |         1 |                  25 |\n",
            "+----+-----------+---------------------+\n",
            "|  2 |         2 |                  23 |\n",
            "+----+-----------+---------------------+\n",
            "\n",
            "==============================\n",
            "\n",
            "Number of Clusters: 4\n",
            "+----+-----------+---------------------+\n",
            "|    |   Cluster |   Number of Members |\n",
            "+====+===========+=====================+\n",
            "|  0 |         0 |                 136 |\n",
            "+----+-----------+---------------------+\n",
            "|  1 |         1 |                  25 |\n",
            "+----+-----------+---------------------+\n",
            "|  2 |         2 |                  23 |\n",
            "+----+-----------+---------------------+\n",
            "|  3 |         3 |                  16 |\n",
            "+----+-----------+---------------------+\n",
            "\n",
            "==============================\n",
            "\n",
            "Number of Clusters: 5\n",
            "+----+-----------+---------------------+\n",
            "|    |   Cluster |   Number of Members |\n",
            "+====+===========+=====================+\n",
            "|  0 |         0 |                  75 |\n",
            "+----+-----------+---------------------+\n",
            "|  1 |         1 |                  25 |\n",
            "+----+-----------+---------------------+\n",
            "|  2 |         2 |                  23 |\n",
            "+----+-----------+---------------------+\n",
            "|  3 |         3 |                  16 |\n",
            "+----+-----------+---------------------+\n",
            "|  4 |         4 |                  61 |\n",
            "+----+-----------+---------------------+\n",
            "\n",
            "==============================\n",
            "\n",
            "Number of Clusters: 6\n",
            "+----+-----------+---------------------+\n",
            "|    |   Cluster |   Number of Members |\n",
            "+====+===========+=====================+\n",
            "|  0 |         0 |                  74 |\n",
            "+----+-----------+---------------------+\n",
            "|  1 |         1 |                  25 |\n",
            "+----+-----------+---------------------+\n",
            "|  2 |         2 |                  19 |\n",
            "+----+-----------+---------------------+\n",
            "|  3 |         3 |                  16 |\n",
            "+----+-----------+---------------------+\n",
            "|  4 |         4 |                  61 |\n",
            "+----+-----------+---------------------+\n",
            "|  5 |         5 |                   5 |\n",
            "+----+-----------+---------------------+\n",
            "\n",
            "==============================\n",
            "\n",
            "Number of Clusters: 7\n",
            "+----+-----------+---------------------+\n",
            "|    |   Cluster |   Number of Members |\n",
            "+====+===========+=====================+\n",
            "|  0 |         0 |                  67 |\n",
            "+----+-----------+---------------------+\n",
            "|  1 |         1 |                  25 |\n",
            "+----+-----------+---------------------+\n",
            "|  2 |         2 |                  19 |\n",
            "+----+-----------+---------------------+\n",
            "|  3 |         3 |                  16 |\n",
            "+----+-----------+---------------------+\n",
            "|  4 |         4 |                  23 |\n",
            "+----+-----------+---------------------+\n",
            "|  5 |         5 |                   5 |\n",
            "+----+-----------+---------------------+\n",
            "|  6 |         6 |                  45 |\n",
            "+----+-----------+---------------------+\n",
            "\n",
            "==============================\n",
            "\n",
            "Number of Clusters: 8\n",
            "+----+-----------+---------------------+\n",
            "|    |   Cluster |   Number of Members |\n",
            "+====+===========+=====================+\n",
            "|  0 |         0 |                  41 |\n",
            "+----+-----------+---------------------+\n",
            "|  1 |         1 |                  25 |\n",
            "+----+-----------+---------------------+\n",
            "|  2 |         2 |                  16 |\n",
            "+----+-----------+---------------------+\n",
            "|  3 |         3 |                  60 |\n",
            "+----+-----------+---------------------+\n",
            "|  4 |         4 |                  16 |\n",
            "+----+-----------+---------------------+\n",
            "|  5 |         5 |                   5 |\n",
            "+----+-----------+---------------------+\n",
            "|  6 |         6 |                  34 |\n",
            "+----+-----------+---------------------+\n",
            "|  7 |         7 |                   3 |\n",
            "+----+-----------+---------------------+\n",
            "\n",
            "==============================\n",
            "\n",
            "Number of Clusters: 9\n",
            "+----+-----------+---------------------+\n",
            "|    |   Cluster |   Number of Members |\n",
            "+====+===========+=====================+\n",
            "|  0 |         0 |                  36 |\n",
            "+----+-----------+---------------------+\n",
            "|  1 |         1 |                  25 |\n",
            "+----+-----------+---------------------+\n",
            "|  2 |         2 |                  16 |\n",
            "+----+-----------+---------------------+\n",
            "|  3 |         3 |                  40 |\n",
            "+----+-----------+---------------------+\n",
            "|  4 |         4 |                  16 |\n",
            "+----+-----------+---------------------+\n",
            "|  5 |         5 |                   5 |\n",
            "+----+-----------+---------------------+\n",
            "|  6 |         6 |                  31 |\n",
            "+----+-----------+---------------------+\n",
            "|  7 |         7 |                   3 |\n",
            "+----+-----------+---------------------+\n",
            "|  8 |         8 |                  28 |\n",
            "+----+-----------+---------------------+\n",
            "\n",
            "==============================\n",
            "\n",
            "Number of Clusters: 10\n",
            "+----+-----------+---------------------+\n",
            "|    |   Cluster |   Number of Members |\n",
            "+====+===========+=====================+\n",
            "|  0 |         0 |                  35 |\n",
            "+----+-----------+---------------------+\n",
            "|  1 |         1 |                  25 |\n",
            "+----+-----------+---------------------+\n",
            "|  2 |         2 |                  16 |\n",
            "+----+-----------+---------------------+\n",
            "|  3 |         3 |                  23 |\n",
            "+----+-----------+---------------------+\n",
            "|  4 |         4 |                  16 |\n",
            "+----+-----------+---------------------+\n",
            "|  5 |         5 |                   5 |\n",
            "+----+-----------+---------------------+\n",
            "|  6 |         6 |                  31 |\n",
            "+----+-----------+---------------------+\n",
            "|  7 |         7 |                   3 |\n",
            "+----+-----------+---------------------+\n",
            "|  8 |         8 |                  19 |\n",
            "+----+-----------+---------------------+\n",
            "|  9 |         9 |                  27 |\n",
            "+----+-----------+---------------------+\n",
            "\n",
            "==============================\n",
            "\n",
            "Number of Clusters: 11\n",
            "+----+-----------+---------------------+\n",
            "|    |   Cluster |   Number of Members |\n",
            "+====+===========+=====================+\n",
            "|  0 |         0 |                  21 |\n",
            "+----+-----------+---------------------+\n",
            "|  1 |         1 |                  25 |\n",
            "+----+-----------+---------------------+\n",
            "|  2 |         2 |                  16 |\n",
            "+----+-----------+---------------------+\n",
            "|  3 |         3 |                  23 |\n",
            "+----+-----------+---------------------+\n",
            "|  4 |         4 |                  16 |\n",
            "+----+-----------+---------------------+\n",
            "|  5 |         5 |                   5 |\n",
            "+----+-----------+---------------------+\n",
            "|  6 |         6 |                  30 |\n",
            "+----+-----------+---------------------+\n",
            "|  7 |         7 |                   3 |\n",
            "+----+-----------+---------------------+\n",
            "|  8 |         8 |                  18 |\n",
            "+----+-----------+---------------------+\n",
            "|  9 |         9 |                  25 |\n",
            "+----+-----------+---------------------+\n",
            "| 10 |        10 |                  18 |\n",
            "+----+-----------+---------------------+\n",
            "\n",
            "==============================\n",
            "\n",
            "Number of Clusters: 12\n",
            "+----+-----------+---------------------+\n",
            "|    |   Cluster |   Number of Members |\n",
            "+====+===========+=====================+\n",
            "|  0 |         0 |                  20 |\n",
            "+----+-----------+---------------------+\n",
            "|  1 |         1 |                  25 |\n",
            "+----+-----------+---------------------+\n",
            "|  2 |         2 |                  16 |\n",
            "+----+-----------+---------------------+\n",
            "|  3 |         3 |                  23 |\n",
            "+----+-----------+---------------------+\n",
            "|  4 |         4 |                  16 |\n",
            "+----+-----------+---------------------+\n",
            "|  5 |         5 |                   5 |\n",
            "+----+-----------+---------------------+\n",
            "|  6 |         6 |                  23 |\n",
            "+----+-----------+---------------------+\n",
            "|  7 |         7 |                   3 |\n",
            "+----+-----------+---------------------+\n",
            "|  8 |         8 |                  18 |\n",
            "+----+-----------+---------------------+\n",
            "|  9 |         9 |                  25 |\n",
            "+----+-----------+---------------------+\n",
            "| 10 |        10 |                  18 |\n",
            "+----+-----------+---------------------+\n",
            "| 11 |        11 |                   8 |\n",
            "+----+-----------+---------------------+\n",
            "\n",
            "==============================\n",
            "\n"
          ]
        }
      ],
      "source": [
        "from tabulate import tabulate\n",
        "df_list = []\n",
        "for cluster, members in number_of_members:\n",
        "    df_list.append(pd.DataFrame({'Cluster': cluster, 'Number of Members': members}))\n",
        "\n",
        "# Display each DataFrame\n",
        "for i, df in enumerate(df_list, 3):  # Start the index from 3 (as in your provided data)\n",
        "    print(f\"Number of Clusters: {i}\")\n",
        "    print(tabulate(df, headers='keys', tablefmt='grid'))\n",
        "    print(\"\\n\" + \"=\"*30 + \"\\n\")  # Separating each table with a line"
      ]
    },
    {
      "cell_type": "markdown",
      "metadata": {
        "id": "24eZFGgKZdpk"
      },
      "source": [
        "* Visualise tissue type percentage in two different clustering configurations"
      ]
    },
    {
      "cell_type": "code",
      "execution_count": null,
      "metadata": {
        "id": "R_G_JSKuZdpk"
      },
      "outputs": [],
      "source": [
        "def calculate_percent(sub_df, attrib):\n",
        "    cnt = sub_df[attrib].count()\n",
        "    output_sub_df = sub_df.groupby(attrib).count()\n",
        "    return (output_sub_df/cnt)"
      ]
    },
    {
      "cell_type": "code",
      "execution_count": null,
      "metadata": {
        "id": "zZa9lYwNZdpk",
        "outputId": "7861700d-1f2a-4390-a94e-da9ada7ff2e2",
        "colab": {
          "base_uri": "https://localhost:8080/",
          "height": 532
        }
      },
      "outputs": [
        {
          "output_type": "display_data",
          "data": {
            "text/plain": [
              "<Figure size 3500x500 with 7 Axes>"
            ],
            "image/png": "[encoded data removed]"
          },
          "metadata": {}
        }
      ],
      "source": [
        "resulted_cluster_df = pd.DataFrame({'clusterID': gmm_assignment, 'type': test_label_vgg})\n",
        "label_proportion_df = resulted_cluster_df.groupby(['clusterID']).apply(lambda x: calculate_percent(x,'type')).rename(columns={'clusterID':'type_occurrence_percentage'}).reset_index()\n",
        "pivoted_label_proportion_df = pd.pivot_table(label_proportion_df, index = 'clusterID', columns = 'type', values = 'type_occurrence_percentage')\n",
        "\n",
        "cluster_range = range(3, 10)\n",
        "fig, axes = plt.subplots(1,len(cluster_range), figsize=(5 * len(cluster_range), 5))\n",
        "fig.suptitle('Cluster Configuration by GMM')\n",
        "\n",
        "# Loop through each number of clusters\n",
        "for i, n_clusters in enumerate(cluster_range):\n",
        "    gmm_vgg= GaussianMixture(n_components=n_clusters, random_state=0)\n",
        "    gmm_vgg.fit(test_data_vgg)  # fit for pca\n",
        "    gmm_assignment= gmm_vgg.predict(test_data_vgg)  # Use combined_data here if needed\n",
        "    resulted_cluster_df = pd.DataFrame({'clusterID': gmm_assignment, 'type': test_label_vgg})\n",
        "    label_proportion_df = resulted_cluster_df.groupby(['clusterID']).apply(lambda x: x['type'].value_counts(normalize=True)).unstack().fillna(0) * 100\n",
        "\n",
        "    # Bar plot for each cluster configuration\n",
        "    label_proportion_df.plot(kind='bar', stacked=True, ax=axes[i], legend=False)\n",
        "    axes[i].set_title(f'Clusters: {n_clusters}')\n",
        "    axes[i].set_ylabel('Percentage of tissue type')\n",
        "    axes[i].legend(loc='upper right',bbox_to_anchor=(1.25,0.5))\n",
        "\n",
        "\n",
        "\n",
        "# Adjust layout\n",
        "plt.tight_layout(rect=[0, 0, 1, 0.95])\n",
        "plt.show()"
      ]
    },
    {
      "cell_type": "code",
      "execution_count": null,
      "metadata": {
        "id": "wQcussODZdpk"
      },
      "outputs": [],
      "source": []
    }
  ],
  "metadata": {
    "kernelspec": {
      "display_name": "Python 3 (ipykernel)",
      "language": "python",
      "name": "python3"
    },
    "language_info": {
      "codemirror_mode": {
        "name": "ipython",
        "version": 3
      },
      "file_extension": ".py",
      "mimetype": "text/x-python",
      "name": "python",
      "nbconvert_exporter": "python",
      "pygments_lexer": "ipython3",
      "version": "3.9.13"
    },
    "colab": {
      "provenance": []
    }
  },
  "nbformat": 4,
  "nbformat_minor": 0
}