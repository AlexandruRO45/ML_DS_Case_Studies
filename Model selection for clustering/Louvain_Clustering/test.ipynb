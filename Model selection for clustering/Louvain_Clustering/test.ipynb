{
 "cells": [
  {
   "cell_type": "code",
   "execution_count": 48,
   "metadata": {},
   "outputs": [],
   "source": [
    "# Data manipulation and computation\n",
    "import numpy as np\n",
    "import pandas as pd\n",
    "import h5py\n",
    "import random\n",
    "from sklearn.preprocessing import MinMaxScaler\n",
    "from sklearn.metrics import silhouette_score, pairwise_distances, v_measure_score\n",
    "from sknetwork.clustering import Louvain\n",
    "from scipy import sparse\n",
    "import matplotlib.pyplot as plt\n",
    "import seaborn as sns\n",
    "\n",
    "# Define paths\n",
    "pge_path = 'colon_nct_feature/pge_dim_reduced_feature.h5'\n",
    "vgg16_path = 'colon_nct_feature/vgg16_dim_reduced_feature.h5'\n",
    "\n",
    "# Load and normalize data\n",
    "def load_and_normalize_data(path, key):\n",
    "    with h5py.File(path, 'r') as h5_file:\n",
    "        data = h5_file[key][...]\n",
    "        return MinMaxScaler().fit_transform(data)\n",
    "\n",
    "datasets = {\n",
    "    'pge_pca': load_and_normalize_data(pge_path, 'pca_feature'),\n",
    "    'pge_umap': load_and_normalize_data(pge_path, 'umap_feature'),\n",
    "    'vgg16_pca': load_and_normalize_data(vgg16_path, 'pca_feature'),\n",
    "    'vgg16_umap': load_and_normalize_data(vgg16_path, 'umap_feature'),\n",
    "}"
   ]
  },
  {
   "cell_type": "code",
   "execution_count": 49,
   "metadata": {},
   "outputs": [],
   "source": [
    "from sklearn.metrics import euclidean_distances\n",
    "\n",
    "def create_similarity_matrix(data):\n",
    "    distances = pairwise_distances(data)\n",
    "    max_distance = np.max(distances)\n",
    "    similarities = np.exp(-distances ** 2 / (2. * max_distance ** 2))\n",
    "    return sparse.csr_matrix(similarities)\n",
    "\n",
    "def create_adjacency_matrix(data):\n",
    "    adjacency_matrix = sparse.csr_matrix(-pairwise_distances(data))\n",
    "    return adjacency_matrix\n",
    "\n",
    "def extract_labels(h5_content):\n",
    "    filename = np.squeeze(h5_content['file_name'])\n",
    "    filename = np.array([str(x) for x in filename])\n",
    "    return np.array([x.split('/')[2] for x in filename])\n",
    "\n",
    "# Extracting labels for each dataset\n",
    "pge_labels = extract_labels(h5py.File(pge_path, mode='r'))\n",
    "vgg16_labels = extract_labels(h5py.File(vgg16_path, mode='r'))\n",
    "\n",
    "labels_dict = {\n",
    "    'pge': pge_labels,\n",
    "    'vgg16': vgg16_labels,\n",
    "}"
   ]
  },
  {
   "cell_type": "code",
   "execution_count": 50,
   "metadata": {},
   "outputs": [
    {
     "name": "stdout",
     "output_type": "stream",
     "text": [
      "pge_pca - Resolution: 0.9, Modularity: Dugue, Clusters: 1\n",
      "pge_pca - Resolution: 0.9, Modularity: Newman, Clusters: 1\n",
      "pge_pca - Resolution: 0.9, Modularity: Potts, Clusters: 11\n",
      "pge_pca - Resolution: 1, Modularity: Dugue, Clusters: 4\n",
      "pge_pca - Resolution: 1, Modularity: Newman, Clusters: 4\n",
      "pge_pca - Resolution: 1, Modularity: Potts, Clusters: 742\n",
      "pge_pca - Resolution: 0.8, Modularity: Dugue, Clusters: 1\n",
      "pge_pca - Resolution: 0.8, Modularity: Newman, Clusters: 1\n",
      "pge_pca - Resolution: 0.8, Modularity: Potts, Clusters: 1\n",
      "pge_umap - Resolution: 0.9, Modularity: Dugue, Clusters: 1\n",
      "pge_umap - Resolution: 0.9, Modularity: Newman, Clusters: 1\n"
     ]
    },
    {
     "ename": "KeyboardInterrupt",
     "evalue": "",
     "output_type": "error",
     "traceback": [
      "\u001b[0;31m---------------------------------------------------------------------------\u001b[0m",
      "\u001b[0;31mKeyboardInterrupt\u001b[0m                         Traceback (most recent call last)",
      "\u001b[1;32m/home/alex/code/ML_DS_Case_Studies/Model selection for clustering/Louvain_Clustering/test.ipynb Cell 3\u001b[0m line \u001b[0;36m1\n\u001b[1;32m     <a href='vscode-notebook-cell://wsl%2Bubuntu/home/alex/code/ML_DS_Case_Studies/Model%20selection%20for%20clustering/Louvain_Clustering/test.ipynb#W3sdnNjb2RlLXJlbW90ZQ%3D%3D?line=11'>12</a>\u001b[0m \u001b[39mfor\u001b[39;00m modularity \u001b[39min\u001b[39;00m modularity_options:\n\u001b[1;32m     <a href='vscode-notebook-cell://wsl%2Bubuntu/home/alex/code/ML_DS_Case_Studies/Model%20selection%20for%20clustering/Louvain_Clustering/test.ipynb#W3sdnNjb2RlLXJlbW90ZQ%3D%3D?line=12'>13</a>\u001b[0m     louvain_model \u001b[39m=\u001b[39m Louvain(resolution\u001b[39m=\u001b[39mresolution, modularity\u001b[39m=\u001b[39mmodularity, random_state\u001b[39m=\u001b[39m\u001b[39m0\u001b[39m)\n\u001b[0;32m---> <a href='vscode-notebook-cell://wsl%2Bubuntu/home/alex/code/ML_DS_Case_Studies/Model%20selection%20for%20clustering/Louvain_Clustering/test.ipynb#W3sdnNjb2RlLXJlbW90ZQ%3D%3D?line=13'>14</a>\u001b[0m     adjacency_matrix \u001b[39m=\u001b[39m create_similarity_matrix(data)\n\u001b[1;32m     <a href='vscode-notebook-cell://wsl%2Bubuntu/home/alex/code/ML_DS_Case_Studies/Model%20selection%20for%20clustering/Louvain_Clustering/test.ipynb#W3sdnNjb2RlLXJlbW90ZQ%3D%3D?line=14'>15</a>\u001b[0m     labels \u001b[39m=\u001b[39m louvain_model\u001b[39m.\u001b[39mfit_predict(adjacency_matrix)\n\u001b[1;32m     <a href='vscode-notebook-cell://wsl%2Bubuntu/home/alex/code/ML_DS_Case_Studies/Model%20selection%20for%20clustering/Louvain_Clustering/test.ipynb#W3sdnNjb2RlLXJlbW90ZQ%3D%3D?line=16'>17</a>\u001b[0m     num_clusters \u001b[39m=\u001b[39m \u001b[39mlen\u001b[39m(np\u001b[39m.\u001b[39munique(labels))\n",
      "\u001b[1;32m/home/alex/code/ML_DS_Case_Studies/Model selection for clustering/Louvain_Clustering/test.ipynb Cell 3\u001b[0m line \u001b[0;36m7\n\u001b[1;32m      <a href='vscode-notebook-cell://wsl%2Bubuntu/home/alex/code/ML_DS_Case_Studies/Model%20selection%20for%20clustering/Louvain_Clustering/test.ipynb#W3sdnNjb2RlLXJlbW90ZQ%3D%3D?line=4'>5</a>\u001b[0m max_distance \u001b[39m=\u001b[39m np\u001b[39m.\u001b[39mmax(distances)\n\u001b[1;32m      <a href='vscode-notebook-cell://wsl%2Bubuntu/home/alex/code/ML_DS_Case_Studies/Model%20selection%20for%20clustering/Louvain_Clustering/test.ipynb#W3sdnNjb2RlLXJlbW90ZQ%3D%3D?line=5'>6</a>\u001b[0m similarities \u001b[39m=\u001b[39m np\u001b[39m.\u001b[39mexp(\u001b[39m-\u001b[39mdistances \u001b[39m*\u001b[39m\u001b[39m*\u001b[39m \u001b[39m2\u001b[39m \u001b[39m/\u001b[39m (\u001b[39m2.\u001b[39m \u001b[39m*\u001b[39m max_distance \u001b[39m*\u001b[39m\u001b[39m*\u001b[39m \u001b[39m2\u001b[39m))\n\u001b[0;32m----> <a href='vscode-notebook-cell://wsl%2Bubuntu/home/alex/code/ML_DS_Case_Studies/Model%20selection%20for%20clustering/Louvain_Clustering/test.ipynb#W3sdnNjb2RlLXJlbW90ZQ%3D%3D?line=6'>7</a>\u001b[0m \u001b[39mreturn\u001b[39;00m sparse\u001b[39m.\u001b[39mcsr_matrix(similarities)\n",
      "File \u001b[0;32m~/anaconda3/lib/python3.11/site-packages/scipy/sparse/_compressed.py:84\u001b[0m, in \u001b[0;36m_cs_matrix.__init__\u001b[0;34m(self, arg1, shape, dtype, copy)\u001b[0m\n\u001b[1;32m     80\u001b[0m     \u001b[39mexcept\u001b[39;00m \u001b[39mException\u001b[39;00m \u001b[39mas\u001b[39;00m e:\n\u001b[1;32m     81\u001b[0m         \u001b[39mraise\u001b[39;00m \u001b[39mValueError\u001b[39;00m(\u001b[39m\"\u001b[39m\u001b[39munrecognized \u001b[39m\u001b[39m{}\u001b[39;00m\u001b[39m_matrix constructor usage\u001b[39m\u001b[39m\"\u001b[39m\n\u001b[1;32m     82\u001b[0m                          \u001b[39m\"\u001b[39m\u001b[39m\"\u001b[39m\u001b[39m.\u001b[39mformat(\u001b[39mself\u001b[39m\u001b[39m.\u001b[39mformat)) \u001b[39mfrom\u001b[39;00m \u001b[39me\u001b[39;00m\n\u001b[1;32m     83\u001b[0m     \u001b[39mself\u001b[39m\u001b[39m.\u001b[39m_set_self(\u001b[39mself\u001b[39m\u001b[39m.\u001b[39m\u001b[39m__class__\u001b[39m(\n\u001b[0;32m---> 84\u001b[0m         \u001b[39mself\u001b[39m\u001b[39m.\u001b[39m_coo_container(arg1, dtype\u001b[39m=\u001b[39mdtype)\n\u001b[1;32m     85\u001b[0m     ))\n\u001b[1;32m     87\u001b[0m \u001b[39m# Read matrix dimensions given, if any\u001b[39;00m\n\u001b[1;32m     88\u001b[0m \u001b[39mif\u001b[39;00m shape \u001b[39mis\u001b[39;00m \u001b[39mnot\u001b[39;00m \u001b[39mNone\u001b[39;00m:\n",
      "File \u001b[0;32m~/anaconda3/lib/python3.11/site-packages/scipy/sparse/_coo.py:195\u001b[0m, in \u001b[0;36m_coo_base.__init__\u001b[0;34m(self, arg1, shape, dtype, copy)\u001b[0m\n\u001b[1;32m    192\u001b[0m         \u001b[39mraise\u001b[39;00m \u001b[39mValueError\u001b[39;00m(\u001b[39m'\u001b[39m\u001b[39minconsistent shapes: \u001b[39m\u001b[39m%s\u001b[39;00m\u001b[39m != \u001b[39m\u001b[39m%s\u001b[39;00m\u001b[39m'\u001b[39m \u001b[39m%\u001b[39m\n\u001b[1;32m    193\u001b[0m                          (shape, \u001b[39mself\u001b[39m\u001b[39m.\u001b[39m_shape))\n\u001b[1;32m    194\u001b[0m index_dtype \u001b[39m=\u001b[39m \u001b[39mself\u001b[39m\u001b[39m.\u001b[39m_get_index_dtype(maxval\u001b[39m=\u001b[39m\u001b[39mmax\u001b[39m(\u001b[39mself\u001b[39m\u001b[39m.\u001b[39m_shape))\n\u001b[0;32m--> 195\u001b[0m row, col \u001b[39m=\u001b[39m M\u001b[39m.\u001b[39mnonzero()\n\u001b[1;32m    196\u001b[0m \u001b[39mself\u001b[39m\u001b[39m.\u001b[39mrow \u001b[39m=\u001b[39m row\u001b[39m.\u001b[39mastype(index_dtype, copy\u001b[39m=\u001b[39m\u001b[39mFalse\u001b[39;00m)\n\u001b[1;32m    197\u001b[0m \u001b[39mself\u001b[39m\u001b[39m.\u001b[39mcol \u001b[39m=\u001b[39m col\u001b[39m.\u001b[39mastype(index_dtype, copy\u001b[39m=\u001b[39m\u001b[39mFalse\u001b[39;00m)\n",
      "\u001b[0;31mKeyboardInterrupt\u001b[0m: "
     ]
    }
   ],
   "source": [
    "# Adjust the resolution values based on your tests for each dataset\n",
    "resolutions = [0.9, 1, 0.8]\n",
    "modularity_options = ['Dugue', 'Newman', 'Potts']\n",
    "\n",
    "louvain_results = []\n",
    "\n",
    "for dataset_name, data in datasets.items():\n",
    "    base_name = dataset_name.split('_')[0]\n",
    "    true_labels = labels_dict[base_name] \n",
    "    #similarity_matrix = create_adjacency_matrix(data)\n",
    "    for resolution in resolutions:\n",
    "        for modularity in modularity_options:\n",
    "            louvain_model = Louvain(resolution=resolution, modularity=modularity, random_state=0)\n",
    "            adjacency_matrix = create_similarity_matrix(data)\n",
    "            labels = louvain_model.fit_predict(adjacency_matrix)\n",
    "\n",
    "            num_clusters = len(np.unique(labels))\n",
    "            print(f\"{dataset_name} - Resolution: {resolution}, Modularity: {modularity}, Clusters: {num_clusters}\")\n",
    "\n",
    "            # Handling extreme cases\n",
    "            if num_clusters == 1 or num_clusters == len(data):\n",
    "                silhouette = None\n",
    "                v_measure = None\n",
    "            else:\n",
    "                silhouette = silhouette_score(data, labels)\n",
    "                v_measure = v_measure_score(true_labels, labels)\n",
    "\n",
    "            louvain_results.append({\n",
    "                'dataset': dataset_name,\n",
    "                'resolution': resolution,\n",
    "                'modularity': modularity,\n",
    "                'silhouette_score': silhouette,\n",
    "                'v_measure_score': v_measure,\n",
    "                'num_clusters': num_clusters\n",
    "            })\n",
    "\n",
    "results_df = pd.DataFrame(louvain_results)\n",
    "results_df.to_csv('results_df.csv', index=False)\n",
    "print(results_df)"
   ]
  }
 ],
 "metadata": {
  "kernelspec": {
   "display_name": "base",
   "language": "python",
   "name": "python3"
  },
  "language_info": {
   "codemirror_mode": {
    "name": "ipython",
    "version": 3
   },
   "file_extension": ".py",
   "mimetype": "text/x-python",
   "name": "python",
   "nbconvert_exporter": "python",
   "pygments_lexer": "ipython3",
   "version": "3.11.5"
  }
 },
 "nbformat": 4,
 "nbformat_minor": 2
}
